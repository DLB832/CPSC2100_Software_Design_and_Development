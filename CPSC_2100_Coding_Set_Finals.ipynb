{
  "nbformat": 4,
  "nbformat_minor": 0,
  "metadata": {
    "colab": {
      "name": "CPSC 2100 Coding Set Finals.ipynb",
      "provenance": [],
      "collapsed_sections": [],
      "toc_visible": true,
      "authorship_tag": "ABX9TyOc1csn0mRrWUqVZq3fC2d+",
      "include_colab_link": true
    },
    "kernelspec": {
      "name": "python3",
      "display_name": "Python 3"
    },
    "language_info": {
      "name": "python"
    }
  },
  "cells": [
    {
      "cell_type": "markdown",
      "metadata": {
        "id": "view-in-github",
        "colab_type": "text"
      },
      "source": [
        "<a href=\"https://colab.research.google.com/github/DLB832/CPSC2100_Software_Design_and_Development/blob/main/CPSC_2100_Coding_Set_Finals.ipynb\" target=\"_parent\"><img src=\"https://colab.research.google.com/assets/colab-badge.svg\" alt=\"Open In Colab\"/></a>"
      ]
    },
    {
      "cell_type": "markdown",
      "metadata": {
        "id": "K1eroRzeYjUk"
      },
      "source": [
        "# Coding Set Finals"
      ]
    },
    {
      "cell_type": "markdown",
      "metadata": {
        "id": "xYUY1K86YmzM"
      },
      "source": [
        "#Problem 1"
      ]
    },
    {
      "cell_type": "markdown",
      "metadata": {
        "id": "Q3iEmiZXYoVa"
      },
      "source": [
        "Suppose you are given two strings (they may be empty), s1 and s2. You would like to \"lace\" these strings together, by successively alternating elements of each string (starting with the first character of s1). If one string is longer than the other, then the remaining elements of the longer string should simply be added at the end of the new string. For example, if we lace 'abcd' and 'efghi', we would get the new string: 'aebfcgdhi'."
      ]
    },
    {
      "cell_type": "code",
      "metadata": {
        "id": "ijF2v0NYY3X_"
      },
      "source": [
        "s1 = 'abcd'\n",
        "s2 = 'efghi'"
      ],
      "execution_count": null,
      "outputs": []
    },
    {
      "cell_type": "code",
      "metadata": {
        "id": "v7ajVjGpZHrT"
      },
      "source": [
        "def laceString(s1, s2):\n",
        "  '''\n",
        "  Iterates between two strings, 'lacing' them together by alternating the letters between them.\n",
        "\n",
        "  s1: a string. can be empty.\n",
        "  s2: a string. can be empty.\n",
        "\n",
        "  returns: a new string composed of a combination of the two passed strings\n",
        "  '''\n",
        "  newString ='' #empty at the start\n",
        "  breaksAtS1 = False\n",
        "  breaksAtS2 = False\n",
        "\n",
        "  for i in range((len(s1) + len(s2))):\n",
        "    if i >= len(s1): #means that s1 is shorter\n",
        "      breaksAtS1 = True \n",
        "      break\n",
        "    if i >= len(s2): #means that s2 is shorter\n",
        "      breaksAtS2 = True \n",
        "      break\n",
        "    newString += s1[i] + s2[i]\n",
        "    #print(newString, 'at ', i) #for debugging\n",
        "\n",
        "  if breaksAtS1 == True: #since we broke iterating through s1\n",
        "    newString += s2[i:] #add the rest of s2 to the end of the string\n",
        "  if breaksAtS2 == True: #vice versa\n",
        "    newString += s1[i:]\n",
        "      \n",
        "  \n",
        "  return newString"
      ],
      "execution_count": null,
      "outputs": []
    },
    {
      "cell_type": "code",
      "metadata": {
        "colab": {
          "base_uri": "https://localhost:8080/"
        },
        "id": "h-mR7I1hZ3TP",
        "outputId": "12ca1e7c-5c3e-4347-a735-1d0d8a31bbe8"
      },
      "source": [
        "print(laceString('abcd', 'efghi'))"
      ],
      "execution_count": null,
      "outputs": [
        {
          "output_type": "stream",
          "text": [
            "aebfcgdhi\n"
          ],
          "name": "stdout"
        }
      ]
    },
    {
      "cell_type": "code",
      "metadata": {
        "colab": {
          "base_uri": "https://localhost:8080/"
        },
        "id": "V8RZv4RdbXsJ",
        "outputId": "b85a4bc4-e729-4725-c0d5-d7bcfde88960"
      },
      "source": [
        "print(laceString('efghi', 'abcd'))"
      ],
      "execution_count": null,
      "outputs": [
        {
          "output_type": "stream",
          "text": [
            "eafbgchdi\n"
          ],
          "name": "stdout"
        }
      ]
    },
    {
      "cell_type": "markdown",
      "metadata": {
        "id": "0A0fBYOz5CKV"
      },
      "source": [
        "#Problem 2"
      ]
    },
    {
      "cell_type": "markdown",
      "metadata": {
        "id": "DBAtTqmP5ETh"
      },
      "source": [
        "Write a Python function that creates and returns a list of prime numbers between 2 and N, inclusive, sorted in increasing order. A prime number is a number that is divisible only by 1 and itself. This function takes in an integer and returns a list of integers."
      ]
    },
    {
      "cell_type": "markdown",
      "metadata": {
        "id": "XjTmEYFj5Wmg"
      },
      "source": [
        "a prime number is only divisible by itself and 1\n",
        "\n",
        "if it's by by 2-9 OR divisible by another prime then it's not a prime itself.\n",
        "\n"
      ]
    },
    {
      "cell_type": "code",
      "metadata": {
        "id": "tV7ct3Od5HJl"
      },
      "source": [
        "def primes_list(N):\n",
        "    '''\n",
        "    N: an integer\n",
        "    Returns a list of prime numbers\n",
        "    '''\n",
        "    primes = [] #an empty array of prime numbers\n",
        "    for i in range(N+1): #to include N\n",
        "      if i == 1: #1 is a special case, not a prime\n",
        "        continue\n",
        "      if i == 2: # 2 is the first prime\n",
        "        primes.append(i) #add to primes array\n",
        "      if i % 2 == 0: #an even number, not prime.\n",
        "        continue\n",
        "      primes.append(i) #add all odd numbers\n",
        "      for j in range(2, i): #for every number between 2 and the most recently added odd number\n",
        "        if i % j == 0: #if the most recently added number % anything before it,\n",
        "          primes.remove(i) #it's not prime and should be removed\n",
        "          break\n",
        "        else: \n",
        "          continue #otherwise it is prime, keep it\n",
        "    return primes"
      ],
      "execution_count": null,
      "outputs": []
    },
    {
      "cell_type": "code",
      "metadata": {
        "colab": {
          "base_uri": "https://localhost:8080/"
        },
        "id": "p2iGp1_h6TIJ",
        "outputId": "1da44521-e69e-4b45-c8e7-c62b9d2224ef"
      },
      "source": [
        "print(primes_list(100))"
      ],
      "execution_count": null,
      "outputs": [
        {
          "output_type": "stream",
          "text": [
            "[2, 3, 5, 7, 11, 13, 17, 19, 23, 29, 31, 37, 41, 43, 47, 53, 59, 61, 67, 71, 73, 79, 83, 89, 97]\n"
          ],
          "name": "stdout"
        }
      ]
    },
    {
      "cell_type": "markdown",
      "metadata": {
        "id": "rwqwBZ1mf7Yv"
      },
      "source": [
        "#Problem 3"
      ]
    },
    {
      "cell_type": "markdown",
      "metadata": {
        "id": "CCSD2RZ3f9kz"
      },
      "source": [
        "You are given a dictionary aDict that maps integer keys to integer values. Write a Python function that returns a list of keys in aDict that map to dictionary values that appear exactly once in aDict.\n",
        "•\tThis function takes in a dictionary and returns a list.\n",
        "•\tReturn the list of keys in increasing order.\n",
        "•\tIf aDict does not contain any values appearing exactly once, return an empty list.\n",
        "•\tIf aDict is empty, return an empty list.\n",
        "For example:\n",
        "If aDict = {1: 1, 3: 2, 6: 0, 7: 0, 8: 4, 10: 0} then your function should return [1, 3, 8]\n",
        "If aDict = {1: 1, 2: 1, 3: 1} then your function should return []\n"
      ]
    },
    {
      "cell_type": "markdown",
      "metadata": {
        "id": "1Y0CiIt0gj0o"
      },
      "source": [
        "Returns the KEYS whose VALUES are unique in the dictionary"
      ]
    },
    {
      "cell_type": "code",
      "metadata": {
        "id": "PjQUQqWdgp0u"
      },
      "source": [
        "aDict = {1: 1, 3: 2, 6: 0, 7: 0, 8: 4, 10: 0}\n",
        "bDict = {1: 1, 2: 1, 3: 1}"
      ],
      "execution_count": null,
      "outputs": []
    },
    {
      "cell_type": "code",
      "metadata": {
        "id": "QZwmAXN9g-gU"
      },
      "source": [
        "def uniqueValues(aDict):\n",
        "    '''\n",
        "    aDict: a dictionary\n",
        "    returns: a sorted list of keys that map to unique aDict values, empty list if none\n",
        "    '''\n",
        "    keysWithUniqueValues = [] #empty list for storing unique valued keys\n",
        "    listOfValues = [] #empty list for storing values\n",
        "    duplicateValues = [] #for comparing with the listOfValues\n",
        "    dictCopy = aDict.copy() #copy of dictionary to save the original dictionary\n",
        "\n",
        "    for keys, values in dictCopy.items(): #dictionary method items() returns each key-value pair as a tuple which can be broken apart\n",
        "      if values in duplicateValues:\n",
        "        #do nothing\n",
        "        print(values, \"is already in duplicate list. Do nothing.\")\n",
        "        break\n",
        "      if values in listOfValues:\n",
        "        #remove from list and add to duplicate list\n",
        "        print(values, \"was added to duplicates\")\n",
        "        duplicateValues.append(values) \n",
        "        continue\n",
        "      else: \n",
        "        print(values, \"was added to the list of values\")\n",
        "        listOfValues.append(values)\n",
        "\n",
        "    for key, value in dictCopy.items(): #for each key-value pair again\n",
        "      if value in duplicateValues: #is the value a duplicate\n",
        "        continue #do nothing.\n",
        "      else: #not in duplicate value list. Then it's UNIQUE\n",
        "        keysWithUniqueValues.append(key) #add that value's KEY to our unique keys list\n",
        "\n",
        "    print(\"unique keys: \", keysWithUniqueValues)\n",
        "    print(\"duplicates: \", duplicateValues)\n",
        "    print(\"values: \", listOfValues)\n",
        "    return sorted(keysWithUniqueValues)\n"
      ],
      "execution_count": null,
      "outputs": []
    },
    {
      "cell_type": "code",
      "metadata": {
        "colab": {
          "base_uri": "https://localhost:8080/"
        },
        "id": "U061Bgbzgyz5",
        "outputId": "659e70df-74e0-4b8b-c027-468b5f817b93"
      },
      "source": [
        "print(\"RESULTS: \", uniqueValues(aDict))\n",
        "print(\"EXPECTED: [1, 3, 8]\") #for aDict\n",
        "print(\"RESULTS: \", uniqueValues(bDict))\n",
        "print(\"EXPECTED: []\") #for bDict\n",
        "\n"
      ],
      "execution_count": null,
      "outputs": [
        {
          "output_type": "stream",
          "text": [
            "1 was added to the list of values\n",
            "2 was added to the list of values\n",
            "0 was added to the list of values\n",
            "0 was added to duplicates\n",
            "4 was added to the list of values\n",
            "0 is already in duplicate list. Do nothing.\n",
            "unique keys:  [1, 3, 8]\n",
            "duplicates:  [0]\n",
            "values:  [1, 2, 0, 4]\n",
            "RESULTS:  [1, 3, 8]\n",
            "EXPECTED: [1, 3, 8]\n",
            "1 was added to the list of values\n",
            "1 was added to duplicates\n",
            "1 is already in duplicate list. Do nothing.\n",
            "unique keys:  []\n",
            "duplicates:  [1]\n",
            "values:  [1]\n",
            "RESULTS:  []\n",
            "EXPECTED: []\n"
          ],
          "name": "stdout"
        }
      ]
    },
    {
      "cell_type": "markdown",
      "metadata": {
        "id": "Q3O1AcbArMqh"
      },
      "source": [
        "#Problem 4"
      ]
    },
    {
      "cell_type": "markdown",
      "metadata": {
        "id": "6QrHteMrrOYZ"
      },
      "source": [
        "In this problem, you will implement a class according to the specifications in the template file usresident.py. The file contains a Person class similar to what you have seen in lecture and a USResident class (a subclass of Person). Person is already implemented for you and you will have to implement two methods of USResident.\n",
        "For example, the following code:\n"
      ]
    },
    {
      "cell_type": "code",
      "metadata": {
        "colab": {
          "base_uri": "https://localhost:8080/",
          "height": 333
        },
        "id": "dzd7hl0CvlYH",
        "outputId": "f0dcf4f6-caff-4394-fddb-efef6bcd0d1f"
      },
      "source": [
        "a = USResident('Tim Beaver', 'citizen')\n",
        "print(a.getStatus())\n",
        "b = USResident('Tim Horton', 'non-resident')\n"
      ],
      "execution_count": 29,
      "outputs": [
        {
          "output_type": "stream",
          "text": [
            "citizen\n"
          ],
          "name": "stdout"
        },
        {
          "output_type": "error",
          "ename": "ValueError",
          "evalue": "ignored",
          "traceback": [
            "\u001b[0;31m---------------------------------------------------------------------------\u001b[0m",
            "\u001b[0;31mValueError\u001b[0m                                Traceback (most recent call last)",
            "\u001b[0;32m<ipython-input-29-182f6309e5f2>\u001b[0m in \u001b[0;36m<module>\u001b[0;34m()\u001b[0m\n\u001b[1;32m      1\u001b[0m \u001b[0ma\u001b[0m \u001b[0;34m=\u001b[0m \u001b[0mUSResident\u001b[0m\u001b[0;34m(\u001b[0m\u001b[0;34m'Tim Beaver'\u001b[0m\u001b[0;34m,\u001b[0m \u001b[0;34m'citizen'\u001b[0m\u001b[0;34m)\u001b[0m\u001b[0;34m\u001b[0m\u001b[0;34m\u001b[0m\u001b[0m\n\u001b[1;32m      2\u001b[0m \u001b[0mprint\u001b[0m\u001b[0;34m(\u001b[0m\u001b[0ma\u001b[0m\u001b[0;34m.\u001b[0m\u001b[0mgetStatus\u001b[0m\u001b[0;34m(\u001b[0m\u001b[0;34m)\u001b[0m\u001b[0;34m)\u001b[0m\u001b[0;34m\u001b[0m\u001b[0;34m\u001b[0m\u001b[0m\n\u001b[0;32m----> 3\u001b[0;31m \u001b[0mb\u001b[0m \u001b[0;34m=\u001b[0m \u001b[0mUSResident\u001b[0m\u001b[0;34m(\u001b[0m\u001b[0;34m'Tim Horton'\u001b[0m\u001b[0;34m,\u001b[0m \u001b[0;34m'non-resident'\u001b[0m\u001b[0;34m)\u001b[0m\u001b[0;34m\u001b[0m\u001b[0;34m\u001b[0m\u001b[0m\n\u001b[0m",
            "\u001b[0;32m<ipython-input-28-4863b1e5b33c>\u001b[0m in \u001b[0;36m__init__\u001b[0;34m(self, name, status)\u001b[0m\n\u001b[1;32m     49\u001b[0m           \u001b[0mself\u001b[0m\u001b[0;34m.\u001b[0m\u001b[0mstatus\u001b[0m \u001b[0;34m=\u001b[0m \u001b[0mstatus\u001b[0m\u001b[0;34m\u001b[0m\u001b[0;34m\u001b[0m\u001b[0m\n\u001b[1;32m     50\u001b[0m         \u001b[0;32melse\u001b[0m\u001b[0;34m:\u001b[0m\u001b[0;34m\u001b[0m\u001b[0;34m\u001b[0m\u001b[0m\n\u001b[0;32m---> 51\u001b[0;31m           \u001b[0;32mraise\u001b[0m \u001b[0mValueError\u001b[0m \u001b[0;31m#raise a value error\u001b[0m\u001b[0;34m\u001b[0m\u001b[0;34m\u001b[0m\u001b[0m\n\u001b[0m\u001b[1;32m     52\u001b[0m \u001b[0;34m\u001b[0m\u001b[0m\n\u001b[1;32m     53\u001b[0m     \u001b[0;32mdef\u001b[0m \u001b[0mgetStatus\u001b[0m\u001b[0;34m(\u001b[0m\u001b[0mself\u001b[0m\u001b[0;34m)\u001b[0m\u001b[0;34m:\u001b[0m\u001b[0;34m\u001b[0m\u001b[0;34m\u001b[0m\u001b[0m\n",
            "\u001b[0;31mValueError\u001b[0m: "
          ]
        }
      ]
    },
    {
      "cell_type": "markdown",
      "metadata": {
        "id": "MGR7BHh_vwgc"
      },
      "source": [
        "will print out:\n",
        "\n",
        "citizen\n",
        "\n",
        "will show that a ValueError was raised at a particular line\n"
      ]
    },
    {
      "cell_type": "code",
      "metadata": {
        "id": "86l6Akwtv2n0"
      },
      "source": [
        "## DO NOT MODIFY THE IMPLEMENTATION OF THE Person CLASS ##\n",
        "class Person(object):\n",
        "    def __init__(self, name):\n",
        "        #create a person with name name\n",
        "        self.name = name\n",
        "        try:\n",
        "            firstBlank = name.rindex(' ')\n",
        "            self.lastName = name[firstBlank+1:]\n",
        "        except:\n",
        "            self.lastName = name\n",
        "        self.age = None\n",
        "    def getLastName(self):\n",
        "        #return self's last name\n",
        "        return self.lastName\n",
        "    def setAge(self, age):\n",
        "        #assumes age is an int greater than 0\n",
        "        #sets self's age to age (in years)\n",
        "        self.age = age\n",
        "    def getAge(self):\n",
        "        #assumes that self's age has been set\n",
        "        #returns self's current age in years\n",
        "        if self.age == None:\n",
        "            raise ValueError\n",
        "        return self.age\n",
        "    def __lt__(self, other):\n",
        "        #return True if self's name is lexicographically less\n",
        "        #than other's name, and False otherwise\n",
        "        if self.lastName == other.lastName:\n",
        "            return self.name < other.name\n",
        "        return self.lastName < other.lastName\n",
        "    def __str__(self):\n",
        "        #return self's name\n",
        "        return self.name\n",
        "        \n",
        "class USResident(Person):\n",
        "    \"\"\" \n",
        "    A Person who resides in the US.\n",
        "    \"\"\"\n",
        "    def __init__(self, name, status):\n",
        "        \"\"\" \n",
        "        Initializes a Person object. A USResident object inherits \n",
        "        from Person and has one additional attribute:\n",
        "        status: a string, one of \"citizen\", \"legal_resident\", \"illegal_resident\"\n",
        "        Raises a ValueError if status is not one of those 3 strings\n",
        "        \"\"\"\n",
        "        self.name = name #sets this objects name to name parameter\n",
        "        #checks that status is of the valid parameters\n",
        "        if status == 'citizen' or status == 'legal_resident' or status == 'illegal_resident':\n",
        "          self.status = status\n",
        "        else:\n",
        "          raise ValueError #raise a value error\n",
        "        \n",
        "    def getStatus(self):\n",
        "        \"\"\"\n",
        "        Returns the status\n",
        "        \"\"\"\n",
        "        return self.status\n"
      ],
      "execution_count": 28,
      "outputs": []
    }
  ]
}