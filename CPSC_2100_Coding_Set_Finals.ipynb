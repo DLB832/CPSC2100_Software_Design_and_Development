{
  "nbformat": 4,
  "nbformat_minor": 0,
  "metadata": {
    "colab": {
      "name": "CPSC 2100 Coding Set Finals.ipynb",
      "provenance": [],
      "collapsed_sections": [],
      "toc_visible": true,
      "authorship_tag": "ABX9TyMrIFo0FmerhnO3LqM+LeOA",
      "include_colab_link": true
    },
    "kernelspec": {
      "name": "python3",
      "display_name": "Python 3"
    },
    "language_info": {
      "name": "python"
    }
  },
  "cells": [
    {
      "cell_type": "markdown",
      "metadata": {
        "id": "view-in-github",
        "colab_type": "text"
      },
      "source": [
        "<a href=\"https://colab.research.google.com/github/DLB832/CPSC2100_Software_Design_and_Development/blob/main/CPSC_2100_Coding_Set_Finals.ipynb\" target=\"_parent\"><img src=\"https://colab.research.google.com/assets/colab-badge.svg\" alt=\"Open In Colab\"/></a>"
      ]
    },
    {
      "cell_type": "markdown",
      "metadata": {
        "id": "K1eroRzeYjUk"
      },
      "source": [
        "# Coding Set Finals"
      ]
    },
    {
      "cell_type": "markdown",
      "metadata": {
        "id": "xYUY1K86YmzM"
      },
      "source": [
        "#Problem 1"
      ]
    },
    {
      "cell_type": "markdown",
      "metadata": {
        "id": "Q3iEmiZXYoVa"
      },
      "source": [
        "Suppose you are given two strings (they may be empty), s1 and s2. You would like to \"lace\" these strings together, by successively alternating elements of each string (starting with the first character of s1). If one string is longer than the other, then the remaining elements of the longer string should simply be added at the end of the new string. For example, if we lace 'abcd' and 'efghi', we would get the new string: 'aebfcgdhi'."
      ]
    },
    {
      "cell_type": "code",
      "metadata": {
        "id": "ijF2v0NYY3X_"
      },
      "source": [
        "s1 = 'abcd'\n",
        "s2 = 'efghi'"
      ],
      "execution_count": 21,
      "outputs": []
    },
    {
      "cell_type": "code",
      "metadata": {
        "id": "v7ajVjGpZHrT"
      },
      "source": [
        "def laceString(s1, s2):\n",
        "  '''\n",
        "  Iterates between two strings, 'lacing' them together by alternating the letters between them.\n",
        "\n",
        "  s1: a string. can be empty.\n",
        "  s2: a string. can be empty.\n",
        "\n",
        "  returns: a new string composed of a combination of the two passed strings\n",
        "  '''\n",
        "  newString ='' #empty at the start\n",
        "  breaksAtS1 = False\n",
        "  breaksAtS2 = False\n",
        "\n",
        "  for i in range((len(s1) + len(s2))):\n",
        "    if i >= len(s1): #means that s1 is shorter\n",
        "      breaksAtS1 = True \n",
        "      break\n",
        "    if i >= len(s2): #means that s2 is shorter\n",
        "      breaksAtS2 = True \n",
        "      break\n",
        "    newString += s1[i] + s2[i]\n",
        "    #print(newString, 'at ', i) #for debugging\n",
        "\n",
        "  if breaksAtS1 == True: #since we broke iterating through s1\n",
        "    newString += s2[i:] #add the rest of s2 to the end of the string\n",
        "  if breaksAtS2 == True: #vice versa\n",
        "    newString += s1[i:]\n",
        "      \n",
        "  \n",
        "  return newString"
      ],
      "execution_count": 24,
      "outputs": []
    },
    {
      "cell_type": "code",
      "metadata": {
        "colab": {
          "base_uri": "https://localhost:8080/"
        },
        "id": "h-mR7I1hZ3TP",
        "outputId": "12ca1e7c-5c3e-4347-a735-1d0d8a31bbe8"
      },
      "source": [
        "print(laceString('abcd', 'efghi'))"
      ],
      "execution_count": 25,
      "outputs": [
        {
          "output_type": "stream",
          "text": [
            "aebfcgdhi\n"
          ],
          "name": "stdout"
        }
      ]
    },
    {
      "cell_type": "code",
      "metadata": {
        "colab": {
          "base_uri": "https://localhost:8080/"
        },
        "id": "V8RZv4RdbXsJ",
        "outputId": "b85a4bc4-e729-4725-c0d5-d7bcfde88960"
      },
      "source": [
        "print(laceString('efghi', 'abcd'))"
      ],
      "execution_count": 26,
      "outputs": [
        {
          "output_type": "stream",
          "text": [
            "eafbgchdi\n"
          ],
          "name": "stdout"
        }
      ]
    }
  ]
}