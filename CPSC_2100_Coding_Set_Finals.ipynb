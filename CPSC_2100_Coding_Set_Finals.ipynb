{
  "nbformat": 4,
  "nbformat_minor": 0,
  "metadata": {
    "colab": {
      "name": "CPSC 2100 Coding Set Finals.ipynb",
      "provenance": [],
      "collapsed_sections": [],
      "toc_visible": true,
      "authorship_tag": "ABX9TyPzvZnTJgeJzm3wGlue1LM7",
      "include_colab_link": true
    },
    "kernelspec": {
      "name": "python3",
      "display_name": "Python 3"
    },
    "language_info": {
      "name": "python"
    }
  },
  "cells": [
    {
      "cell_type": "markdown",
      "metadata": {
        "id": "view-in-github",
        "colab_type": "text"
      },
      "source": [
        "<a href=\"https://colab.research.google.com/github/DLB832/CPSC2100_Software_Design_and_Development/blob/main/CPSC_2100_Coding_Set_Finals.ipynb\" target=\"_parent\"><img src=\"https://colab.research.google.com/assets/colab-badge.svg\" alt=\"Open In Colab\"/></a>"
      ]
    },
    {
      "cell_type": "markdown",
      "metadata": {
        "id": "K1eroRzeYjUk"
      },
      "source": [
        "# Coding Set Finals"
      ]
    },
    {
      "cell_type": "markdown",
      "metadata": {
        "id": "xYUY1K86YmzM"
      },
      "source": [
        "#Problem 1"
      ]
    },
    {
      "cell_type": "markdown",
      "metadata": {
        "id": "Q3iEmiZXYoVa"
      },
      "source": [
        "Suppose you are given two strings (they may be empty), s1 and s2. You would like to \"lace\" these strings together, by successively alternating elements of each string (starting with the first character of s1). If one string is longer than the other, then the remaining elements of the longer string should simply be added at the end of the new string. For example, if we lace 'abcd' and 'efghi', we would get the new string: 'aebfcgdhi'."
      ]
    },
    {
      "cell_type": "code",
      "metadata": {
        "id": "ijF2v0NYY3X_"
      },
      "source": [
        "s1 = 'abcd'\n",
        "s2 = 'efghi'"
      ],
      "execution_count": null,
      "outputs": []
    },
    {
      "cell_type": "code",
      "metadata": {
        "id": "v7ajVjGpZHrT"
      },
      "source": [
        "def laceString(s1, s2):\n",
        "  '''\n",
        "  Iterates between two strings, 'lacing' them together by alternating the letters between them.\n",
        "\n",
        "  s1: a string. can be empty.\n",
        "  s2: a string. can be empty.\n",
        "\n",
        "  returns: a new string composed of a combination of the two passed strings\n",
        "  '''\n",
        "  newString ='' #empty at the start\n",
        "  breaksAtS1 = False\n",
        "  breaksAtS2 = False\n",
        "\n",
        "  for i in range((len(s1) + len(s2))):\n",
        "    if i >= len(s1): #means that s1 is shorter\n",
        "      breaksAtS1 = True \n",
        "      break\n",
        "    if i >= len(s2): #means that s2 is shorter\n",
        "      breaksAtS2 = True \n",
        "      break\n",
        "    newString += s1[i] + s2[i]\n",
        "    #print(newString, 'at ', i) #for debugging\n",
        "\n",
        "  if breaksAtS1 == True: #since we broke iterating through s1\n",
        "    newString += s2[i:] #add the rest of s2 to the end of the string\n",
        "  if breaksAtS2 == True: #vice versa\n",
        "    newString += s1[i:]\n",
        "      \n",
        "  \n",
        "  return newString"
      ],
      "execution_count": null,
      "outputs": []
    },
    {
      "cell_type": "code",
      "metadata": {
        "colab": {
          "base_uri": "https://localhost:8080/"
        },
        "id": "h-mR7I1hZ3TP",
        "outputId": "12ca1e7c-5c3e-4347-a735-1d0d8a31bbe8"
      },
      "source": [
        "print(laceString('abcd', 'efghi'))"
      ],
      "execution_count": null,
      "outputs": [
        {
          "output_type": "stream",
          "text": [
            "aebfcgdhi\n"
          ],
          "name": "stdout"
        }
      ]
    },
    {
      "cell_type": "code",
      "metadata": {
        "colab": {
          "base_uri": "https://localhost:8080/"
        },
        "id": "V8RZv4RdbXsJ",
        "outputId": "b85a4bc4-e729-4725-c0d5-d7bcfde88960"
      },
      "source": [
        "print(laceString('efghi', 'abcd'))"
      ],
      "execution_count": null,
      "outputs": [
        {
          "output_type": "stream",
          "text": [
            "eafbgchdi\n"
          ],
          "name": "stdout"
        }
      ]
    },
    {
      "cell_type": "markdown",
      "metadata": {
        "id": "0A0fBYOz5CKV"
      },
      "source": [
        "#Problem 2"
      ]
    },
    {
      "cell_type": "markdown",
      "metadata": {
        "id": "DBAtTqmP5ETh"
      },
      "source": [
        "Write a Python function that creates and returns a list of prime numbers between 2 and N, inclusive, sorted in increasing order. A prime number is a number that is divisible only by 1 and itself. This function takes in an integer and returns a list of integers."
      ]
    },
    {
      "cell_type": "markdown",
      "metadata": {
        "id": "XjTmEYFj5Wmg"
      },
      "source": [
        "a prime number is only divisible by itself and 1\n",
        "\n",
        "if it's by by 2-9 OR divisible by another prime then it's not a prime itself.\n",
        "\n"
      ]
    },
    {
      "cell_type": "code",
      "metadata": {
        "id": "tV7ct3Od5HJl"
      },
      "source": [
        "def primes_list(N):\n",
        "    '''\n",
        "    N: an integer\n",
        "    Returns a list of prime numbers\n",
        "    '''\n",
        "    primes = [] #an empty array of prime numbers\n",
        "    for i in range(N+1): #to include N\n",
        "      if i == 1: #1 is a special case, not a prime\n",
        "        continue\n",
        "      if i == 2: # 2 is the first prime\n",
        "        primes.append(i) #add to primes array\n",
        "      if i % 2 == 0: #an even number, not prime.\n",
        "        continue\n",
        "      primes.append(i) #add all odd numbers\n",
        "      for j in range(2, i): #for every number between 2 and the most recently added odd number\n",
        "        if i % j == 0: #if the most recently added number % anything before it,\n",
        "          primes.remove(i) #it's not prime and should be removed\n",
        "          break\n",
        "        else: \n",
        "          continue #otherwise it is prime, keep it\n",
        "    return primes"
      ],
      "execution_count": 47,
      "outputs": []
    },
    {
      "cell_type": "code",
      "metadata": {
        "colab": {
          "base_uri": "https://localhost:8080/"
        },
        "id": "p2iGp1_h6TIJ",
        "outputId": "1da44521-e69e-4b45-c8e7-c62b9d2224ef"
      },
      "source": [
        "print(primes_list(100))"
      ],
      "execution_count": 46,
      "outputs": [
        {
          "output_type": "stream",
          "text": [
            "[2, 3, 5, 7, 11, 13, 17, 19, 23, 29, 31, 37, 41, 43, 47, 53, 59, 61, 67, 71, 73, 79, 83, 89, 97]\n"
          ],
          "name": "stdout"
        }
      ]
    }
  ]
}