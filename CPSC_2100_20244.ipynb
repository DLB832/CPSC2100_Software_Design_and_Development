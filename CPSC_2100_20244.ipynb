{
  "nbformat": 4,
  "nbformat_minor": 0,
  "metadata": {
    "colab": {
      "name": "CPSC 2100_20244.ipynb",
      "provenance": [],
      "collapsed_sections": [],
      "toc_visible": true,
      "authorship_tag": "ABX9TyMKVNiu7QrsTr/+Ml+3bVsa",
      "include_colab_link": true
    },
    "kernelspec": {
      "name": "python3",
      "display_name": "Python 3"
    }
  },
  "cells": [
    {
      "cell_type": "markdown",
      "metadata": {
        "id": "view-in-github",
        "colab_type": "text"
      },
      "source": [
        "<a href=\"https://colab.research.google.com/github/DLB832/CPSC2100_coding_help/blob/main/CPSC_2100_20244.ipynb\" target=\"_parent\"><img src=\"https://colab.research.google.com/assets/colab-badge.svg\" alt=\"Open In Colab\"/></a>"
      ]
    },
    {
      "cell_type": "markdown",
      "metadata": {
        "id": "kNvj_RFkf1Tp"
      },
      "source": [
        "# Hello world basic\n"
      ]
    },
    {
      "cell_type": "code",
      "metadata": {
        "id": "j33UPOxBCiLJ"
      },
      "source": [
        "print(\"Hello, world!\")"
      ],
      "execution_count": null,
      "outputs": []
    },
    {
      "cell_type": "markdown",
      "metadata": {
        "id": "uIv01NApg1ns"
      },
      "source": [
        "# return the largest x, y, or z\n"
      ]
    },
    {
      "cell_type": "code",
      "metadata": {
        "id": "io-pxravg6Mz"
      },
      "source": [
        "x = 3\n",
        "y = 9\n",
        "z = 4\n",
        "largest = 0\n",
        "if x > y and x > z:\n",
        "  print(\"X is the largest value.\")\n",
        "elif y > x and y > z:\n",
        "  print(\"Y is the largest value.\")\n",
        "elif z > x and z > y:\n",
        "  print(\"Z is the largest value.\")  "
      ],
      "execution_count": null,
      "outputs": []
    },
    {
      "cell_type": "markdown",
      "metadata": {
        "id": "I0B-a7RRvGTJ"
      },
      "source": [
        "# Coding problem 1.1"
      ]
    },
    {
      "cell_type": "code",
      "metadata": {
        "id": "usG22_yeicyR"
      },
      "source": [
        "# assume s is a string of lowercaser letters, count the vowels and display\n",
        "s = \"azcbobobegghakl\"\n",
        "s?\n"
      ],
      "execution_count": null,
      "outputs": []
    },
    {
      "cell_type": "markdown",
      "metadata": {
        "id": "sm6vY1NDjIfh"
      },
      "source": [
        "Now we have defined s as a string of characters containing the values \"alskodifnwkajd\" and using the \"?\" command, will pull all information relating to the object \"s\". This makes sure that it is assigned properly."
      ]
    },
    {
      "cell_type": "markdown",
      "metadata": {
        "id": "vYo5nVIgvXNN"
      },
      "source": [
        "Next, we need to write a loop that iterates through the string and counts how many vowels are present, and then updates the value of the object \"count\"."
      ]
    },
    {
      "cell_type": "code",
      "metadata": {
        "id": "7knTXWdzvhVO"
      },
      "source": [
        "count = 0\n",
        "#count?"
      ],
      "execution_count": null,
      "outputs": []
    },
    {
      "cell_type": "code",
      "metadata": {
        "id": "f3Ea6Is2t3uw"
      },
      "source": [
        "for char in s:\n",
        "  # checks each instance of char and if it is an \"a, e, i, o, u\"\n",
        "  if char == \"a\" or char == \"e\" or char == \"i\" or char == \"o\" or char ==\"u\": \n",
        "    count += 1 #updates the count value if the character matches\n",
        "  else:\n",
        "    pass #otherwise it passes back"
      ],
      "execution_count": null,
      "outputs": []
    },
    {
      "cell_type": "code",
      "metadata": {
        "id": "nydsapRYyfUi"
      },
      "source": [
        "print(\"The number of vowels is: \", count)"
      ],
      "execution_count": null,
      "outputs": []
    },
    {
      "cell_type": "markdown",
      "metadata": {
        "id": "DAOd-FD2zhJw"
      },
      "source": [
        "#Coding problem 1.2\n"
      ]
    },
    {
      "cell_type": "markdown",
      "metadata": {
        "id": "Y4utP26oz3vu"
      },
      "source": [
        "Assume s is a string of lowercase letters. Count the number of times \"bob\" appears in the string and display this value."
      ]
    },
    {
      "cell_type": "code",
      "metadata": {
        "id": "-zpz_iMh0Lrp"
      },
      "source": [
        "#lets call this s2 so we aren't confused with the first problem.\n",
        "s2 = 'azcbobobegghakl'\n",
        "#s2?\n",
        "#note that \"bob\" appears 2 times in this string."
      ],
      "execution_count": null,
      "outputs": []
    },
    {
      "cell_type": "markdown",
      "metadata": {
        "id": "bK2esn3l2NtG"
      },
      "source": [
        "since were trying to recognize a group of characters, let's call them a pattern and store the number of times this patten appears in our string.\n"
      ]
    },
    {
      "cell_type": "code",
      "metadata": {
        "id": "2C2CiWt12eOx"
      },
      "source": [
        "pattern = \"bob\"\n",
        "pattern_count = 0 #this sets our initial instance of the pattern forming at 0\n"
      ],
      "execution_count": null,
      "outputs": []
    },
    {
      "cell_type": "markdown",
      "metadata": {
        "id": "DSPNPzeK9dal"
      },
      "source": [
        "We need to establish an way of identifying the pattern from within the string. So lets start by establishing a substring (called \"sub\")."
      ]
    },
    {
      "cell_type": "code",
      "metadata": {
        "id": "AvLyATWAPKuG"
      },
      "source": [
        "i = 0\n",
        "j = i + 3\n",
        "while j <= len(s2):\n",
        "  sub = s2[i:j]\n",
        "  if sub == pattern:\n",
        "    pattern_count += 1\n",
        "    i += 1\n",
        "    j += 1\n",
        "  else:\n",
        "    i += 1\n",
        "    j += 1\n",
        "   \n",
        "\n",
        "print(\"The pattern:\", pattern, \"appeared:\", pattern_count, \"times.\")"
      ],
      "execution_count": null,
      "outputs": []
    },
    {
      "cell_type": "markdown",
      "metadata": {
        "id": "_9bNBcy3RPbV"
      },
      "source": [
        "The above code works! But it is not very elegent. Maybe try something along the lines of using a different loop? Or counter. "
      ]
    },
    {
      "cell_type": "markdown",
      "metadata": {
        "id": "zOT9p3Oja4b5"
      },
      "source": [
        "# Coding problem 1.3"
      ]
    },
    {
      "cell_type": "markdown",
      "metadata": {
        "id": "6tcoBK6mbEsA"
      },
      "source": [
        "Assume s is a string of lower case characters.\n",
        "\n",
        "Write a program that prints the longest substring of s in which the letters occur in alphabetical order. Please use s = 'azcbobobegghakl' to test your codes. Your program should print beggh\n",
        "\n",
        "Longest substring in alphabetical order is: beggh\n",
        "In the case of ties, print the first substring. For example, if s = 'abcbcd', then your program should print\n",
        "\n",
        "Longest substring in alphabetical order is: abc\n"
      ]
    },
    {
      "cell_type": "code",
      "metadata": {
        "id": "UElLYoL3cNL4"
      },
      "source": [
        "s = \"azcbobobegghakl\" #stores the string\n",
        "longestAlphabetical = s[0] #declares the longest substring in aplhabetical order as the 0th index\n",
        "#longestAlphabetical?\n",
        "expectedLongestAplphabetical = \"beggh\"\n",
        "#\"z\" < \"a\" returns false\n",
        "currentSub = \"\"\n"
      ],
      "execution_count": 64,
      "outputs": []
    },
    {
      "cell_type": "markdown",
      "metadata": {
        "id": "f7bwStg8d9P_"
      },
      "source": [
        "We want to check the alphabetical index of the character in position [0] against position [1]; if 1 comes after [0], then add it to the slice for the longest alphabetical substring and repeat. \n",
        "\n",
        "Otherwise, check position [1] against position [2] and erase the substring."
      ]
    },
    {
      "cell_type": "markdown",
      "metadata": {
        "id": "R0VRqhvLfLo8"
      },
      "source": [
        "\"z\" < \"a\" returns false. This leads me to believe that it checks the alphabetical index of the two characters to determine if they come before or after the other logically. I could usse this to check each letter in the strings index"
      ]
    },
    {
      "cell_type": "code",
      "metadata": {
        "id": "MWEl5nH-6trk"
      },
      "source": [
        "i = 0\n",
        "j = i + 1"
      ],
      "execution_count": 68,
      "outputs": []
    },
    {
      "cell_type": "code",
      "metadata": {
        "id": "IkTDsVZqf90b"
      },
      "source": [
        "debug = 1\n",
        "while j < (len(s)-1):\n",
        "  #longestAlphabetical = currentSub[i:j]\n",
        "  if s[i] <= s[j]:\n",
        "      currentSub = currentSub + s[i]  #We need to add the character at s[i] to the substring without overwriting the substring.\n",
        "      i += 1\n",
        "      j += 144\n",
        "  else:\n",
        "      currentSub = \"\"\n",
        "      i += 1\n",
        "      j += 1  "
      ],
      "execution_count": 72,
      "outputs": []
    },
    {
      "cell_type": "code",
      "metadata": {
        "id": "Qti7skASgpeu"
      },
      "source": [
        "print(longestAlphabetical)\r\n",
        "print(expectedLongestAplphabetical)"
      ],
      "execution_count": null,
      "outputs": []
    },
    {
      "cell_type": "markdown",
      "metadata": {
        "id": "PNgHlwr6z0Z0"
      },
      "source": [
        "##Teacher workthrough of 1.3"
      ]
    },
    {
      "cell_type": "code",
      "metadata": {
        "colab": {
          "base_uri": "https://localhost:8080/"
        },
        "id": "23h8TLwlz4s0",
        "outputId": "534c10eb-b77b-4e92-a9a5-c8a9a9af1122"
      },
      "source": [
        "s = \"azcbobobegghakl\" #stores the string\r\n",
        "longestAlphabetical = \"\"\r\n",
        "expectedLongestAplphabetical = \"beggh\"\r\n",
        "\r\n",
        "for i in range(len(s)): #the first letter looked at\r\n",
        "  for j in range(i,len(s)-1): #looks at each letter after that\r\n",
        "    currentSub = s[i] #first letter of the substring\r\n",
        "    if s[j] <= s[j+1]: #checks to see if the next character is also in order and tries to extend the substring\r\n",
        "      currentSub = s[i:(j+2)] #if it is, it extends the current substring\r\n",
        "      if len(longestAlphabetical) <= len(currentSub): #if the length of the longest aplhabetical substring is less than the current, updates it.\r\n",
        "        longestAlphabetical = currentSub #updates the longest alphabetical substring\r\n",
        "    else:\r\n",
        "      break #breaks out of the loop and continues checking at i + 1\r\n",
        "\r\n",
        "print(longestAlphabetical)    "
      ],
      "execution_count": 74,
      "outputs": [
        {
          "output_type": "stream",
          "text": [
            "beggh\n"
          ],
          "name": "stdout"
        }
      ]
    }
  ]
}