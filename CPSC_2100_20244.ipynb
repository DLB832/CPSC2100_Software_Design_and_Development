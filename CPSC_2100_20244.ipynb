{
  "nbformat": 4,
  "nbformat_minor": 0,
  "metadata": {
    "colab": {
      "name": "CPSC 2100_20244.ipynb",
      "provenance": [],
      "collapsed_sections": [],
      "authorship_tag": "ABX9TyM3LNzOgoPqUVYyOqV+ZFIr",
      "include_colab_link": true
    },
    "kernelspec": {
      "name": "python3",
      "display_name": "Python 3"
    }
  },
  "cells": [
    {
      "cell_type": "markdown",
      "metadata": {
        "id": "view-in-github",
        "colab_type": "text"
      },
      "source": [
        "<a href=\"https://colab.research.google.com/github/DLB832/CPSC2100_coding_help/blob/main/CPSC_2100_20244.ipynb\" target=\"_parent\"><img src=\"https://colab.research.google.com/assets/colab-badge.svg\" alt=\"Open In Colab\"/></a>"
      ]
    },
    {
      "cell_type": "markdown",
      "metadata": {
        "id": "kNvj_RFkf1Tp"
      },
      "source": [
        "# Hello world basic\n"
      ]
    },
    {
      "cell_type": "code",
      "metadata": {
        "id": "j33UPOxBCiLJ"
      },
      "source": [
        "print(\"Hello, world!\")"
      ],
      "execution_count": null,
      "outputs": []
    },
    {
      "cell_type": "markdown",
      "metadata": {
        "id": "uIv01NApg1ns"
      },
      "source": [
        "# return the largest x, y, or z\n"
      ]
    },
    {
      "cell_type": "code",
      "metadata": {
        "id": "io-pxravg6Mz"
      },
      "source": [
        "x = 3\n",
        "y = 9\n",
        "z = 4\n",
        "largest = 0\n",
        "if x > y and x > z:\n",
        "  print(\"X is the largest value.\")\n",
        "elif y > x and y > z:\n",
        "  print(\"Y is the largest value.\")\n",
        "elif z > x and z > y:\n",
        "  print(\"Z is the largest value.\")  "
      ],
      "execution_count": null,
      "outputs": []
    },
    {
      "cell_type": "markdown",
      "metadata": {
        "id": "I0B-a7RRvGTJ"
      },
      "source": [
        "# Coding problem 1.1"
      ]
    },
    {
      "cell_type": "code",
      "metadata": {
        "id": "usG22_yeicyR"
      },
      "source": [
        "# assume s is a string of lowercaser letters, count the vowels and display\n",
        "s = \"azcbobobegghakl\"\n",
        "s?\n"
      ],
      "execution_count": null,
      "outputs": []
    },
    {
      "cell_type": "markdown",
      "metadata": {
        "id": "sm6vY1NDjIfh"
      },
      "source": [
        "Now we have defined s as a string of characters containing the values \"alskodifnwkajd\" and using the \"?\" command, will pull all information relating to the object \"s\". This makes sure that it is assigned properly."
      ]
    },
    {
      "cell_type": "markdown",
      "metadata": {
        "id": "vYo5nVIgvXNN"
      },
      "source": [
        "Next, we need to write a loop that iterates through the string and counts how many vowels are present, and then updates the value of the object \"count\"."
      ]
    },
    {
      "cell_type": "code",
      "metadata": {
        "id": "7knTXWdzvhVO"
      },
      "source": [
        "count = 0\n",
        "#count?"
      ],
      "execution_count": null,
      "outputs": []
    },
    {
      "cell_type": "code",
      "metadata": {
        "id": "f3Ea6Is2t3uw"
      },
      "source": [
        "for char in s:\n",
        "  # checks each instance of char and if it is an \"a, e, i, o, u\"\n",
        "  if char == \"a\" or char == \"e\" or char == \"i\" or char == \"o\" or char ==\"u\": \n",
        "    count += 1 #updates the count value if the character matches\n",
        "  else:\n",
        "    pass #otherwise it passes back"
      ],
      "execution_count": null,
      "outputs": []
    },
    {
      "cell_type": "code",
      "metadata": {
        "id": "nydsapRYyfUi"
      },
      "source": [
        "print(\"The number of vowels is: \", count)"
      ],
      "execution_count": null,
      "outputs": []
    },
    {
      "cell_type": "markdown",
      "metadata": {
        "id": "DAOd-FD2zhJw"
      },
      "source": [
        "#Coding problem 1.2\n"
      ]
    },
    {
      "cell_type": "markdown",
      "metadata": {
        "id": "Y4utP26oz3vu"
      },
      "source": [
        "Assume s is a string of lowercase letters. Count the number of times \"bob\" appears in the string and display this value."
      ]
    },
    {
      "cell_type": "code",
      "metadata": {
        "id": "-zpz_iMh0Lrp"
      },
      "source": [
        "#lets call this s2 so we aren't confused with the first problem.\n",
        "s2 = 'azcbobobegghakl'\n",
        "#s2?\n",
        "#note that \"bob\" appears 2 times in this string."
      ],
      "execution_count": null,
      "outputs": []
    },
    {
      "cell_type": "markdown",
      "metadata": {
        "id": "bK2esn3l2NtG"
      },
      "source": [
        "since were trying to recognize a group of characters, let's call them a pattern and store the number of times this patten appears in our string.\n"
      ]
    },
    {
      "cell_type": "code",
      "metadata": {
        "id": "2C2CiWt12eOx"
      },
      "source": [
        "pattern = \"bob\"\n",
        "pattern_count = 0 #this sets our initial instance of the pattern forming at 0\n"
      ],
      "execution_count": null,
      "outputs": []
    },
    {
      "cell_type": "markdown",
      "metadata": {
        "id": "DSPNPzeK9dal"
      },
      "source": [
        "We need to establish an way of identifying the pattern from within the string. So lets start by establishing a substring (called \"sub\")."
      ]
    },
    {
      "cell_type": "code",
      "metadata": {
        "id": "AvLyATWAPKuG"
      },
      "source": [
        "i = 0\n",
        "j = i + 3\n",
        "while j <= len(s2):\n",
        "  sub = s2[i:j]\n",
        "  if sub == pattern:\n",
        "    pattern_count += 1\n",
        "    i += 1\n",
        "    j += 1\n",
        "  else:\n",
        "    i += 1\n",
        "    j += 1\n",
        "   \n",
        "\n",
        "print(\"The pattern:\", pattern, \"appeared:\", pattern_count, \"times.\")"
      ],
      "execution_count": null,
      "outputs": []
    },
    {
      "cell_type": "markdown",
      "metadata": {
        "id": "_9bNBcy3RPbV"
      },
      "source": [
        "The above code works! But it is not very elegent. Maybe try something along the lines of using a different loop? Or counter. "
      ]
    },
    {
      "cell_type": "markdown",
      "metadata": {
        "id": "zOT9p3Oja4b5"
      },
      "source": [
        "# Coding problem 1.3"
      ]
    },
    {
      "cell_type": "markdown",
      "metadata": {
        "id": "6tcoBK6mbEsA"
      },
      "source": [
        "Assume s is a string of lower case characters.\n",
        "\n",
        "Write a program that prints the longest substring of s in which the letters occur in alphabetical order. Please use s = 'azcbobobegghakl' to test your codes. Your program should print beggh\n",
        "\n",
        "Longest substring in alphabetical order is: beggh\n",
        "In the case of ties, print the first substring. For example, if s = 'abcbcd', then your program should print\n",
        "\n",
        "Longest substring in alphabetical order is: abc\n"
      ]
    },
    {
      "cell_type": "code",
      "metadata": {
        "id": "UElLYoL3cNL4"
      },
      "source": [
        "s = \"azcbobobegghakl\" #stores the string\n",
        "longestAlphabetical = s[0] #declares the longest substring in aplhabetical order as the 0th index\n",
        "#longestAlphabetical?\n",
        "expectedLongestAplphabetical = \"beggh\"\n",
        "#\"z\" < \"a\" returns false\n",
        "currentSub = \"\"\n"
      ],
      "execution_count": null,
      "outputs": []
    },
    {
      "cell_type": "markdown",
      "metadata": {
        "id": "f7bwStg8d9P_"
      },
      "source": [
        "We want to check the alphabetical index of the character in position [0] against position [1]; if 1 comes after [0], then add it to the slice for the longest alphabetical substring and repeat. \n",
        "\n",
        "Otherwise, check position [1] against position [2] and erase the substring."
      ]
    },
    {
      "cell_type": "markdown",
      "metadata": {
        "id": "R0VRqhvLfLo8"
      },
      "source": [
        "\"z\" < \"a\" returns false. This leads me to believe that it checks the alphabetical index of the two characters to determine if they come before or after the other logically. I could usse this to check each letter in the strings index"
      ]
    },
    {
      "cell_type": "code",
      "metadata": {
        "id": "MWEl5nH-6trk"
      },
      "source": [
        "i = 0\n",
        "j = i + 1"
      ],
      "execution_count": null,
      "outputs": []
    },
    {
      "cell_type": "code",
      "metadata": {
        "id": "IkTDsVZqf90b"
      },
      "source": [
        "debug = 1\n",
        "while j < (len(s)-1):\n",
        "  #longestAlphabetical = currentSub[i:j]\n",
        "  if s[i] <= s[j]:\n",
        "      currentSub = currentSub + s[i]  #We need to add the character at s[i] to the substring without overwriting the substring.\n",
        "      i += 1\n",
        "      j += 144\n",
        "  else:\n",
        "      currentSub = \"\"\n",
        "      i += 1\n",
        "      j += 1  "
      ],
      "execution_count": null,
      "outputs": []
    },
    {
      "cell_type": "code",
      "metadata": {
        "id": "Qti7skASgpeu"
      },
      "source": [
        "print(longestAlphabetical)\r\n",
        "print(expectedLongestAplphabetical)"
      ],
      "execution_count": null,
      "outputs": []
    },
    {
      "cell_type": "markdown",
      "metadata": {
        "id": "PNgHlwr6z0Z0"
      },
      "source": [
        "##Teacher workthrough of 1.3"
      ]
    },
    {
      "cell_type": "code",
      "metadata": {
        "colab": {
          "base_uri": "https://localhost:8080/"
        },
        "id": "23h8TLwlz4s0",
        "outputId": "534c10eb-b77b-4e92-a9a5-c8a9a9af1122"
      },
      "source": [
        "s = \"azcbobobegghakl\" #stores the string\r\n",
        "longestAlphabetical = \"\"\r\n",
        "expectedLongestAplphabetical = \"beggh\"\r\n",
        "\r\n",
        "for i in range(len(s)): #the first letter looked at\r\n",
        "  for j in range(i,len(s)-1): #looks at each letter after that\r\n",
        "    currentSub = s[i] #first letter of the substring\r\n",
        "    if s[j] <= s[j+1]: #checks to see if the next character is also in order and tries to extend the substring\r\n",
        "      currentSub = s[i:(j+2)] #if it is, it extends the current substring\r\n",
        "      if len(longestAlphabetical) <= len(currentSub): #if the length of the longest aplhabetical substring is less than the current, updates it.\r\n",
        "        longestAlphabetical = currentSub #updates the longest alphabetical substring\r\n",
        "    else:\r\n",
        "      break #breaks out of the loop and continues checking at i + 1\r\n",
        "\r\n",
        "print(longestAlphabetical)    "
      ],
      "execution_count": null,
      "outputs": [
        {
          "output_type": "stream",
          "text": [
            "beggh\n"
          ],
          "name": "stdout"
        }
      ]
    },
    {
      "cell_type": "markdown",
      "metadata": {
        "id": "E-vaLUgFFG7N"
      },
      "source": [
        "#Coding Problem 2.1\n"
      ]
    },
    {
      "cell_type": "markdown",
      "metadata": {
        "id": "WnqeIzygFMCA"
      },
      "source": [
        "Write a program to calculate the credit card balance after one year if a person only pays the minimum monthly payment required by the credit card company each month.\n",
        "\n",
        "For each month, calculate statements on the monthly payment and remaining balance. At the end of 12 months, print out the remaining balance. Be sure to print out no more than two decimal digits of accuracy - so print"
      ]
    },
    {
      "cell_type": "code",
      "metadata": {
        "id": "UG0uV-zhFbrW",
        "colab": {
          "base_uri": "https://localhost:8080/"
        },
        "outputId": "d597f02c-4792-4fdb-a77f-0eed174d7a9a"
      },
      "source": [
        "balance = 5000.00 #outstanding balance on the card\n",
        "annualInterestRate = 0.18 #the annual intrest rate as a decimal\n",
        "monthlyInterestRate = 0.02 #annualInterestRate/12 the minimum monthly payment on the balance as a decimal\n",
        "\n",
        "for month in range(12): #exclusive so from 1 - 12\n",
        "  monthlyMinimumPayment = monthlyInterestRate * balance\n",
        "  unpaidBalance = balance - monthlyMinimumPayment\n",
        "  balance = unpaidBalance + (monthlyInterestRate * unpaidBalance)\n",
        "  month += 1 #for debugging\n",
        "  print(\"Remaining balance after month\", month, \"is: \", balance) #for debugging\n",
        "  print(\"Month #\", month, \"minimum payment: \", monthlyMinimumPayment)\n",
        "\n",
        "print(\"Remaining Balance: \", round(balance,2))\n",
        "  "
      ],
      "execution_count": 14,
      "outputs": [
        {
          "output_type": "stream",
          "text": [
            "Remaining balance after month 1 is:  4998.0\n",
            "Month # 1 minimum payment:  100.0\n",
            "Remaining balance after month 2 is:  4996.0008\n",
            "Month # 2 minimum payment:  99.96000000000001\n",
            "Remaining balance after month 3 is:  4994.00239968\n",
            "Month # 3 minimum payment:  99.920016\n",
            "Remaining balance after month 4 is:  4992.004798720128\n",
            "Month # 4 minimum payment:  99.8800479936\n",
            "Remaining balance after month 5 is:  4990.00799680064\n",
            "Month # 5 minimum payment:  99.84009597440256\n",
            "Remaining balance after month 6 is:  4988.01199360192\n",
            "Month # 6 minimum payment:  99.8001599360128\n",
            "Remaining balance after month 7 is:  4986.01678880448\n",
            "Month # 7 minimum payment:  99.7602398720384\n",
            "Remaining balance after month 8 is:  4984.022382088958\n",
            "Month # 8 minimum payment:  99.7203357760896\n",
            "Remaining balance after month 9 is:  4982.028773136122\n",
            "Month # 9 minimum payment:  99.68044764177915\n",
            "Remaining balance after month 10 is:  4980.035961626868\n",
            "Month # 10 minimum payment:  99.64057546272245\n",
            "Remaining balance after month 11 is:  4978.043947242218\n",
            "Month # 11 minimum payment:  99.60071923253736\n",
            "Remaining balance after month 12 is:  4976.052729663321\n",
            "Month # 12 minimum payment:  99.56087894484436\n",
            "Remaining Balance:  4976.05\n"
          ],
          "name": "stdout"
        }
      ]
    },
    {
      "cell_type": "markdown",
      "metadata": {
        "id": "lf-qJHhFMj8d"
      },
      "source": [
        "#Coding Problem 2.2"
      ]
    },
    {
      "cell_type": "markdown",
      "metadata": {
        "id": "vgS_IvLAMluK"
      },
      "source": [
        "Now write a program that calculates the minimum fixed monthly payment needed in order pay off a credit card balance within 12 months. By a fixed monthly payment, we mean a single number which does not change each month, but instead is a constant amount that will be paid each month.\n",
        "\n",
        "Assume that the interest is compounded monthly according to the balance at the end of the month (after the payment for that month is made). The monthly payment must be a multiple of $10 and is the same for all months. Notice that it is possible for the balance to become negative using this payment scheme, which is okay. A summary of the required math is found below:"
      ]
    },
    {
      "cell_type": "markdown",
      "metadata": {
        "id": "eNTqhserOQwD"
      },
      "source": [
        "Let's start by using a similar loop to find the total balance + interest after a year without paying anything and then dividing that by the number of months in the year."
      ]
    },
    {
      "cell_type": "code",
      "metadata": {
        "id": "CM8JRzIfM4eG",
        "colab": {
          "base_uri": "https://localhost:8080/"
        },
        "outputId": "4cd50e46-ebe3-482f-99a2-ee54d52f597a"
      },
      "source": [
        "balance = 5000\n",
        "annualInterestRate = 0.18\n",
        "monthlyInterestRate = annualInterestRate / 12\n",
        "minimumFixedMonthlyPayment = 0 #does not change month to month to pay off cc within 12 months\n",
        "balanceFound = False\n",
        "\n",
        "while balanceFound == False:\n",
        "  newBalance = balance\n",
        "  for month in range(12):\n",
        "    newBalance -= minimumFixedMonthlyPayment\n",
        "    newBalance += (newBalance * monthlyInterestRate)\n",
        "  if newBalance > 0:\n",
        "    minimumFixedMonthlyPayment += 10\n",
        "    newBalance = balance\n",
        "  else:\n",
        "    print(\"Minimum fixed monthly payment: \", minimumFixedMonthlyPayment)\n",
        "    balanceFound = True\n",
        "  \n",
        "\n"
      ],
      "execution_count": 13,
      "outputs": [
        {
          "output_type": "stream",
          "text": [
            "Minimum fixed monthly payment:  460\n"
          ],
          "name": "stdout"
        }
      ]
    },
    {
      "cell_type": "markdown",
      "metadata": {
        "id": "F68AgGhnnn4O"
      },
      "source": [
        "#Coding Problem 2.3\n"
      ]
    },
    {
      "cell_type": "markdown",
      "metadata": {
        "id": "3ahCOZJZYoll"
      },
      "source": [
        "You'll notice that in Problem 2, your monthly payment had to be a multiple of $10.  Does your code still work? It should, but you may notice that your code runs more slowly, especially in cases with very large balances and interest rates. (Note: when your code is running on our servers, there are limits on the amount of computing time each submission is allowed, so your observations from running this experiment on the grading system might be limited to an error message complaining about too much time taken.)\n",
        "\n",
        "Well then, how can we calculate a more accurate fixed monthly payment than we did in Problem 2 without running into the problem of slow code? We can make this program run faster using a technique introduced in lecture - bisection search!\n",
        "\n",
        "To recap the problem: we are searching for the smallest monthly payment such that we can pay off the entire balance within a year. What is a reasonable lower bound for this payment value? $0 is the obvious anwer, but you can do better than that. If there was no interest, the debt can be paid off by monthly payments of one-twelfth of the original balance, so we must pay at least this much every month. One-twelfth of the original balance is a good lower bound.\n",
        "\n",
        "What is a good upper bound? Imagine that instead of paying monthly, we paid off the entire balance at the end of the year. What we ultimately pay must be greater than what we would've paid in monthly installments, because the interest was compounded on the balance we didn't pay off each month. So a good upper bound for the monthly payment would be one-twelfth of the balance, after having its interest compounded monthly for an entire year.\n",
        "\n",
        "Write a program that uses these bounds and bisection search. to find the smallest monthly payment to the cent (no more multiples of $10) such that we can pay off the debt within a year. Try it out with large inputs, and notice how fast it is (try the same large inputs in your solution to Problem 2 to compare!). Produce the same return value as you did in Problem 2"
      ]
    },
    {
      "cell_type": "code",
      "metadata": {
        "id": "Ju6SAMvlnqCV",
        "colab": {
          "base_uri": "https://localhost:8080/"
        },
        "outputId": "c51d6caa-63c2-438b-a8cf-79d9c314bd08"
      },
      "source": [
        "balance = 5000.00\n",
        "annualInterestRate = 0.18\n",
        "monthlyInterestRate = annualInterestRate / 12\n",
        "monthlyPaymentLowerBound = balance / 12 #if no interest, the lowest amount to be paid monthly to pay off in a year.\n",
        "monthlyPaymentUpperBound = (balance*(1 + monthlyInterestRate)**12) / 12.0 #instead of paying monthly, paying all interest at the end of the year.\n",
        "#smallestMonthlyPayment = (monthlyPaymentLowerBound + monthlyPaymentUpperBound) / 2 #half of the distance b/w bounds.\n",
        "\n",
        "totalCount = 0 #safety net to not have a runtime error. If >100 stop program.\n",
        "smallestFound = False\n",
        "\n",
        "while smallestFound == False:\n",
        "  totalCount +=1\n",
        "  if totalCount >= 100:\n",
        "    break\n",
        "  newBalance = balance\n",
        "  smallestMonthlyPayment = (monthlyPaymentLowerBound + monthlyPaymentUpperBound) / 2\n",
        "  \n",
        "  #estimate the remaining balance after 12 months\n",
        "  for month in range(12):\n",
        "    newBalance -= smallestMonthlyPayment\n",
        "    newBalance += newBalance * monthlyInterestRate\n",
        "    month += 1\n",
        "    #print(\"month: \", month)\n",
        "    #print(\"lower bound: \", monthlyPaymentLowerBound)\n",
        "    #print(\"upper bound: \", monthlyPaymentUpperBound)\n",
        "    #print(\"current smallest payment: \", smallestMonthlyPayment)\n",
        "    #print(\"current balance: \", newBalance)\n",
        "    #print(\"\")\n",
        "\n",
        "  if 0 < abs(newBalance) and abs(newBalance) <= 0.01: #or abs(monthlyPaymentUpperBound - monthlyPaymentLowerBound) == 0.01: controls precision\n",
        "    smallestFound = True\n",
        "    print(\"smallest monthly payment: \", round(smallestMonthlyPayment,2))\n",
        "      \n",
        "  #otherwise we need to update the smallest payment and try again.\n",
        "  #lets say that after 12 months the balance is a negative number, then our minimum payment is too high.\n",
        "  #so let's update our upper bound to be what our current payment is.\n",
        "  elif newBalance < -0.01:\n",
        "    monthlyPaymentUpperBound = smallestMonthlyPayment\n",
        "  #if our balance is a positive number, then our smallest payment is too low.\n",
        "  #so let's update the lower bound to be what the current payment is.\n",
        "  #either of these changes will update the bisection section we are looking at.\n",
        "  elif newBalance > 0.01:\n",
        "    monthlyPaymentLowerBound = smallestMonthlyPayment\n",
        "\n",
        "#not updating? need to put in while loop.\n"
      ],
      "execution_count": 12,
      "outputs": [
        {
          "output_type": "stream",
          "text": [
            "smallest monthly payment:  451.63\n"
          ],
          "name": "stdout"
        }
      ]
    }
  ]
}