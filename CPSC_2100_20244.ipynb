{
  "nbformat": 4,
  "nbformat_minor": 0,
  "metadata": {
    "colab": {
      "name": "CPSC 2100_20244.ipynb",
      "provenance": [],
      "collapsed_sections": [],
      "toc_visible": true,
      "authorship_tag": "ABX9TyPZcKHDUNkhbisBQz0Z92vp",
      "include_colab_link": true
    },
    "kernelspec": {
      "name": "python3",
      "display_name": "Python 3"
    }
  },
  "cells": [
    {
      "cell_type": "markdown",
      "metadata": {
        "id": "view-in-github",
        "colab_type": "text"
      },
      "source": [
        "<a href=\"https://colab.research.google.com/github/DLB832/CPSC2100_Software_Design_and_Development/blob/main/CPSC_2100_20244.ipynb\" target=\"_parent\"><img src=\"https://colab.research.google.com/assets/colab-badge.svg\" alt=\"Open In Colab\"/></a>"
      ]
    },
    {
      "cell_type": "markdown",
      "metadata": {
        "id": "kNvj_RFkf1Tp"
      },
      "source": [
        "# Hello world basic\n"
      ]
    },
    {
      "cell_type": "code",
      "metadata": {
        "id": "j33UPOxBCiLJ"
      },
      "source": [
        "print(\"Hello, world!\")"
      ],
      "execution_count": null,
      "outputs": []
    },
    {
      "cell_type": "markdown",
      "metadata": {
        "id": "uIv01NApg1ns"
      },
      "source": [
        "# return the largest x, y, or z\n"
      ]
    },
    {
      "cell_type": "code",
      "metadata": {
        "id": "io-pxravg6Mz"
      },
      "source": [
        "x = 3\n",
        "y = 9\n",
        "z = 4\n",
        "largest = 0\n",
        "if x > y and x > z:\n",
        "  print(\"X is the largest value.\")\n",
        "elif y > x and y > z:\n",
        "  print(\"Y is the largest value.\")\n",
        "elif z > x and z > y:\n",
        "  print(\"Z is the largest value.\")  "
      ],
      "execution_count": null,
      "outputs": []
    },
    {
      "cell_type": "markdown",
      "metadata": {
        "id": "I0B-a7RRvGTJ"
      },
      "source": [
        "# Coding problem 1.1"
      ]
    },
    {
      "cell_type": "code",
      "metadata": {
        "id": "usG22_yeicyR"
      },
      "source": [
        "# assume s is a string of lowercaser letters, count the vowels and display\n",
        "s = \"azcbobobegghakl\"\n",
        "s?\n"
      ],
      "execution_count": null,
      "outputs": []
    },
    {
      "cell_type": "markdown",
      "metadata": {
        "id": "sm6vY1NDjIfh"
      },
      "source": [
        "Now we have defined s as a string of characters containing the values \"alskodifnwkajd\" and using the \"?\" command, will pull all information relating to the object \"s\". This makes sure that it is assigned properly."
      ]
    },
    {
      "cell_type": "markdown",
      "metadata": {
        "id": "vYo5nVIgvXNN"
      },
      "source": [
        "Next, we need to write a loop that iterates through the string and counts how many vowels are present, and then updates the value of the object \"count\"."
      ]
    },
    {
      "cell_type": "code",
      "metadata": {
        "id": "7knTXWdzvhVO"
      },
      "source": [
        "count = 0\n",
        "#count?"
      ],
      "execution_count": null,
      "outputs": []
    },
    {
      "cell_type": "code",
      "metadata": {
        "id": "f3Ea6Is2t3uw"
      },
      "source": [
        "for char in s:\n",
        "  # checks each instance of char and if it is an \"a, e, i, o, u\"\n",
        "  if char == \"a\" or char == \"e\" or char == \"i\" or char == \"o\" or char ==\"u\": \n",
        "    count += 1 #updates the count value if the character matches\n",
        "  else:\n",
        "    pass #otherwise it passes back"
      ],
      "execution_count": null,
      "outputs": []
    },
    {
      "cell_type": "code",
      "metadata": {
        "id": "nydsapRYyfUi"
      },
      "source": [
        "print(\"The number of vowels is: \", count)"
      ],
      "execution_count": null,
      "outputs": []
    },
    {
      "cell_type": "markdown",
      "metadata": {
        "id": "DAOd-FD2zhJw"
      },
      "source": [
        "#Coding problem 1.2\n"
      ]
    },
    {
      "cell_type": "markdown",
      "metadata": {
        "id": "Y4utP26oz3vu"
      },
      "source": [
        "Assume s is a string of lowercase letters. Count the number of times \"bob\" appears in the string and display this value."
      ]
    },
    {
      "cell_type": "code",
      "metadata": {
        "id": "-zpz_iMh0Lrp"
      },
      "source": [
        "#lets call this s2 so we aren't confused with the first problem.\n",
        "s2 = 'azcbobobegghakl'\n",
        "#s2?\n",
        "#note that \"bob\" appears 2 times in this string."
      ],
      "execution_count": null,
      "outputs": []
    },
    {
      "cell_type": "markdown",
      "metadata": {
        "id": "bK2esn3l2NtG"
      },
      "source": [
        "since were trying to recognize a group of characters, let's call them a pattern and store the number of times this patten appears in our string.\n"
      ]
    },
    {
      "cell_type": "code",
      "metadata": {
        "id": "2C2CiWt12eOx"
      },
      "source": [
        "pattern = \"bob\"\n",
        "pattern_count = 0 #this sets our initial instance of the pattern forming at 0\n"
      ],
      "execution_count": null,
      "outputs": []
    },
    {
      "cell_type": "markdown",
      "metadata": {
        "id": "DSPNPzeK9dal"
      },
      "source": [
        "We need to establish an way of identifying the pattern from within the string. So lets start by establishing a substring (called \"sub\")."
      ]
    },
    {
      "cell_type": "code",
      "metadata": {
        "id": "AvLyATWAPKuG"
      },
      "source": [
        "i = 0\n",
        "j = i + 3\n",
        "while j <= len(s2):\n",
        "  sub = s2[i:j]\n",
        "  if sub == pattern:\n",
        "    pattern_count += 1\n",
        "    i += 1\n",
        "    j += 1\n",
        "  else:\n",
        "    i += 1\n",
        "    j += 1\n",
        "   \n",
        "\n",
        "print(\"The pattern:\", pattern, \"appeared:\", pattern_count, \"times.\")"
      ],
      "execution_count": null,
      "outputs": []
    },
    {
      "cell_type": "markdown",
      "metadata": {
        "id": "_9bNBcy3RPbV"
      },
      "source": [
        "The above code works! But it is not very elegent. Maybe try something along the lines of using a different loop? Or counter. "
      ]
    },
    {
      "cell_type": "markdown",
      "metadata": {
        "id": "zOT9p3Oja4b5"
      },
      "source": [
        "# Coding problem 1.3"
      ]
    },
    {
      "cell_type": "markdown",
      "metadata": {
        "id": "6tcoBK6mbEsA"
      },
      "source": [
        "Assume s is a string of lower case characters.\n",
        "\n",
        "Write a program that prints the longest substring of s in which the letters occur in alphabetical order. Please use s = 'azcbobobegghakl' to test your codes. Your program should print beggh\n",
        "\n",
        "Longest substring in alphabetical order is: beggh\n",
        "In the case of ties, print the first substring. For example, if s = 'abcbcd', then your program should print\n",
        "\n",
        "Longest substring in alphabetical order is: abc\n"
      ]
    },
    {
      "cell_type": "code",
      "metadata": {
        "id": "UElLYoL3cNL4"
      },
      "source": [
        "s = \"azcbobobegghakl\" #stores the string\n",
        "longestAlphabetical = s[0] #declares the longest substring in aplhabetical order as the 0th index\n",
        "#longestAlphabetical?\n",
        "expectedLongestAplphabetical = \"beggh\"\n",
        "#\"z\" < \"a\" returns false\n",
        "currentSub = \"\"\n"
      ],
      "execution_count": null,
      "outputs": []
    },
    {
      "cell_type": "markdown",
      "metadata": {
        "id": "f7bwStg8d9P_"
      },
      "source": [
        "We want to check the alphabetical index of the character in position [0] against position [1]; if 1 comes after [0], then add it to the slice for the longest alphabetical substring and repeat. \n",
        "\n",
        "Otherwise, check position [1] against position [2] and erase the substring."
      ]
    },
    {
      "cell_type": "markdown",
      "metadata": {
        "id": "R0VRqhvLfLo8"
      },
      "source": [
        "\"z\" < \"a\" returns false. This leads me to believe that it checks the alphabetical index of the two characters to determine if they come before or after the other logically. I could usse this to check each letter in the strings index"
      ]
    },
    {
      "cell_type": "code",
      "metadata": {
        "id": "MWEl5nH-6trk"
      },
      "source": [
        "i = 0\n",
        "j = i + 1"
      ],
      "execution_count": null,
      "outputs": []
    },
    {
      "cell_type": "code",
      "metadata": {
        "id": "IkTDsVZqf90b"
      },
      "source": [
        "debug = 1\n",
        "while j < (len(s)-1):\n",
        "  #longestAlphabetical = currentSub[i:j]\n",
        "  if s[i] <= s[j]:\n",
        "      currentSub = currentSub + s[i]  #We need to add the character at s[i] to the substring without overwriting the substring.\n",
        "      i += 1\n",
        "      j += 144\n",
        "  else:\n",
        "      currentSub = \"\"\n",
        "      i += 1\n",
        "      j += 1  "
      ],
      "execution_count": null,
      "outputs": []
    },
    {
      "cell_type": "code",
      "metadata": {
        "id": "Qti7skASgpeu"
      },
      "source": [
        "print(longestAlphabetical)\n",
        "print(expectedLongestAplphabetical)"
      ],
      "execution_count": null,
      "outputs": []
    },
    {
      "cell_type": "markdown",
      "metadata": {
        "id": "PNgHlwr6z0Z0"
      },
      "source": [
        "##Teacher workthrough of 1.3"
      ]
    },
    {
      "cell_type": "code",
      "metadata": {
        "colab": {
          "base_uri": "https://localhost:8080/"
        },
        "id": "23h8TLwlz4s0",
        "outputId": "534c10eb-b77b-4e92-a9a5-c8a9a9af1122"
      },
      "source": [
        "s = \"azcbobobegghakl\" #stores the string\n",
        "longestAlphabetical = \"\"\n",
        "expectedLongestAplphabetical = \"beggh\"\n",
        "\n",
        "for i in range(len(s)): #the first letter looked at\n",
        "  for j in range(i,len(s)-1): #looks at each letter after that\n",
        "    currentSub = s[i] #first letter of the substring\n",
        "    if s[j] <= s[j+1]: #checks to see if the next character is also in order and tries to extend the substring\n",
        "      currentSub = s[i:(j+2)] #if it is, it extends the current substring\n",
        "      if len(longestAlphabetical) <= len(currentSub): #if the length of the longest aplhabetical substring is less than the current, updates it.\n",
        "        longestAlphabetical = currentSub #updates the longest alphabetical substring\n",
        "    else:\n",
        "      break #breaks out of the loop and continues checking at i + 1\n",
        "\n",
        "print(longestAlphabetical)    "
      ],
      "execution_count": null,
      "outputs": [
        {
          "output_type": "stream",
          "text": [
            "beggh\n"
          ],
          "name": "stdout"
        }
      ]
    },
    {
      "cell_type": "markdown",
      "metadata": {
        "id": "E-vaLUgFFG7N"
      },
      "source": [
        "#Coding Problem 2.1\n"
      ]
    },
    {
      "cell_type": "markdown",
      "metadata": {
        "id": "WnqeIzygFMCA"
      },
      "source": [
        "Write a program to calculate the credit card balance after one year if a person only pays the minimum monthly payment required by the credit card company each month.\n",
        "\n",
        "For each month, calculate statements on the monthly payment and remaining balance. At the end of 12 months, print out the remaining balance. Be sure to print out no more than two decimal digits of accuracy - so print"
      ]
    },
    {
      "cell_type": "code",
      "metadata": {
        "id": "UG0uV-zhFbrW"
      },
      "source": [
        "balance = 5000.00 #outstanding balance on the card\n",
        "annualInterestRate = 0.18 #the annual intrest rate as a decimal\n",
        "monthlyInterestRate = 0.02 #annualInterestRate/12 the minimum monthly payment on the balance as a decimal\n",
        "\n",
        "for month in range(12): #exclusive so from 1 - 12\n",
        "  monthlyMinimumPayment = monthlyInterestRate * balance\n",
        "  unpaidBalance = balance - monthlyMinimumPayment\n",
        "  balance = unpaidBalance + (monthlyInterestRate * unpaidBalance)\n",
        "  month += 1 #for debugging\n",
        "  print(\"Remaining balance after month\", month, \"is: \", balance) #for debugging\n",
        "  print(\"Month #\", month, \"minimum payment: \", monthlyMinimumPayment)\n",
        "\n",
        "print(\"Remaining Balance: \", round(balance,2))\n",
        "  "
      ],
      "execution_count": null,
      "outputs": []
    },
    {
      "cell_type": "markdown",
      "metadata": {
        "id": "lf-qJHhFMj8d"
      },
      "source": [
        "#Coding Problem 2.2"
      ]
    },
    {
      "cell_type": "markdown",
      "metadata": {
        "id": "vgS_IvLAMluK"
      },
      "source": [
        "Now write a program that calculates the minimum fixed monthly payment needed in order pay off a credit card balance within 12 months. By a fixed monthly payment, we mean a single number which does not change each month, but instead is a constant amount that will be paid each month.\n",
        "\n",
        "Assume that the interest is compounded monthly according to the balance at the end of the month (after the payment for that month is made). The monthly payment must be a multiple of $10 and is the same for all months. Notice that it is possible for the balance to become negative using this payment scheme, which is okay. A summary of the required math is found below:"
      ]
    },
    {
      "cell_type": "markdown",
      "metadata": {
        "id": "eNTqhserOQwD"
      },
      "source": [
        "Let's start by using a similar loop to find the total balance + interest after a year without paying anything and then dividing that by the number of months in the year."
      ]
    },
    {
      "cell_type": "code",
      "metadata": {
        "id": "CM8JRzIfM4eG",
        "colab": {
          "base_uri": "https://localhost:8080/"
        },
        "outputId": "4cd50e46-ebe3-482f-99a2-ee54d52f597a"
      },
      "source": [
        "balance = 5000\n",
        "annualInterestRate = 0.18\n",
        "monthlyInterestRate = annualInterestRate / 12\n",
        "minimumFixedMonthlyPayment = 0 #does not change month to month to pay off cc within 12 months\n",
        "balanceFound = False\n",
        "\n",
        "while balanceFound == False:\n",
        "  newBalance = balance\n",
        "  for month in range(12):\n",
        "    newBalance -= minimumFixedMonthlyPayment\n",
        "    newBalance += (newBalance * monthlyInterestRate)\n",
        "  if newBalance > 0:\n",
        "    minimumFixedMonthlyPayment += 10\n",
        "    newBalance = balance\n",
        "  else:\n",
        "    print(\"Minimum fixed monthly payment: \", minimumFixedMonthlyPayment)\n",
        "    balanceFound = True\n",
        "  \n",
        "\n"
      ],
      "execution_count": null,
      "outputs": [
        {
          "output_type": "stream",
          "text": [
            "Minimum fixed monthly payment:  460\n"
          ],
          "name": "stdout"
        }
      ]
    },
    {
      "cell_type": "markdown",
      "metadata": {
        "id": "F68AgGhnnn4O"
      },
      "source": [
        "#Coding Problem 2.3\n"
      ]
    },
    {
      "cell_type": "markdown",
      "metadata": {
        "id": "3ahCOZJZYoll"
      },
      "source": [
        "You'll notice that in Problem 2, your monthly payment had to be a multiple of $10.  Does your code still work? It should, but you may notice that your code runs more slowly, especially in cases with very large balances and interest rates. (Note: when your code is running on our servers, there are limits on the amount of computing time each submission is allowed, so your observations from running this experiment on the grading system might be limited to an error message complaining about too much time taken.)\n",
        "\n",
        "Well then, how can we calculate a more accurate fixed monthly payment than we did in Problem 2 without running into the problem of slow code? We can make this program run faster using a technique introduced in lecture - bisection search!\n",
        "\n",
        "To recap the problem: we are searching for the smallest monthly payment such that we can pay off the entire balance within a year. What is a reasonable lower bound for this payment value? $0 is the obvious anwer, but you can do better than that. If there was no interest, the debt can be paid off by monthly payments of one-twelfth of the original balance, so we must pay at least this much every month. One-twelfth of the original balance is a good lower bound.\n",
        "\n",
        "What is a good upper bound? Imagine that instead of paying monthly, we paid off the entire balance at the end of the year. What we ultimately pay must be greater than what we would've paid in monthly installments, because the interest was compounded on the balance we didn't pay off each month. So a good upper bound for the monthly payment would be one-twelfth of the balance, after having its interest compounded monthly for an entire year.\n",
        "\n",
        "Write a program that uses these bounds and bisection search. to find the smallest monthly payment to the cent (no more multiples of $10) such that we can pay off the debt within a year. Try it out with large inputs, and notice how fast it is (try the same large inputs in your solution to Problem 2 to compare!). Produce the same return value as you did in Problem 2"
      ]
    },
    {
      "cell_type": "code",
      "metadata": {
        "id": "Ju6SAMvlnqCV",
        "colab": {
          "base_uri": "https://localhost:8080/"
        },
        "outputId": "ea0511bf-1bf3-4aa7-8032-afa6fbb33630"
      },
      "source": [
        "balance = 5000.00\n",
        "annualInterestRate = 0.18\n",
        "monthlyInterestRate = annualInterestRate / 12\n",
        "monthlyPaymentLowerBound = balance / 12 #if no interest, the lowest amount to be paid monthly to pay off in a year.\n",
        "monthlyPaymentUpperBound = (balance*(1 + monthlyInterestRate)**12) / 12.0 #instead of paying monthly, paying all interest at the end of the year.\n",
        "#smallestMonthlyPayment = (monthlyPaymentLowerBound + monthlyPaymentUpperBound) / 2 #half of the distance b/w bounds.\n",
        "\n",
        "totalCount = 0 #safety net to not have a runtime error. If >100 stop program.\n",
        "smallestFound = False\n",
        "\n",
        "while smallestFound == False:\n",
        "  totalCount +=1\n",
        "  if totalCount >= 100:\n",
        "    break\n",
        "  newBalance = balance\n",
        "  smallestMonthlyPayment = (monthlyPaymentLowerBound + monthlyPaymentUpperBound) / 2\n",
        "  \n",
        "  #estimate the remaining balance after 12 months\n",
        "  for month in range(12):\n",
        "    newBalance -= smallestMonthlyPayment\n",
        "    newBalance += newBalance * monthlyInterestRate\n",
        "    month += 1\n",
        "    #print(\"month: \", month)\n",
        "    #print(\"lower bound: \", monthlyPaymentLowerBound)\n",
        "    #print(\"upper bound: \", monthlyPaymentUpperBound)\n",
        "    #print(\"current smallest payment: \", smallestMonthlyPayment)\n",
        "    #print(\"current balance: \", newBalance)\n",
        "    #print(\"\")\n",
        "\n",
        "  if 0 < abs(newBalance) and abs(newBalance) <= 0.01: #or abs(monthlyPaymentUpperBound - monthlyPaymentLowerBound) == 0.01: controls precision\n",
        "    smallestFound = True\n",
        "    print(\"smallest monthly payment: \", round(smallestMonthlyPayment,2))\n",
        "      \n",
        "  #otherwise we need to update the smallest payment and try again.\n",
        "  #lets say that after 12 months the balance is a negative number, then our minimum payment is too high.\n",
        "  #so let's update our upper bound to be what our current payment is.\n",
        "  elif newBalance < -0.01:\n",
        "    monthlyPaymentUpperBound = smallestMonthlyPayment\n",
        "  #if our balance is a positive number, then our smallest payment is too low.\n",
        "  #so let's update the lower bound to be what the current payment is.\n",
        "  #either of these changes will update the bisection section we are looking at.\n",
        "  elif newBalance > 0.01:\n",
        "    monthlyPaymentLowerBound = smallestMonthlyPayment\n",
        "\n",
        "#not updating? need to put in while loop.\n"
      ],
      "execution_count": null,
      "outputs": [
        {
          "output_type": "stream",
          "text": [
            "smallest monthly payment:  451.63\n"
          ],
          "name": "stdout"
        }
      ]
    },
    {
      "cell_type": "markdown",
      "metadata": {
        "id": "NK8l-yyAWb6w"
      },
      "source": [
        "#Coding Problem 2.4\n"
      ]
    },
    {
      "cell_type": "markdown",
      "metadata": {
        "id": "Ptyxcm2MWgkq"
      },
      "source": [
        "In Problem 3, we designed a bisection search to find the monthly minimal monthly payment to pay off the debt in 12 months.  Here, please revise your bisection search solution using a recursive function. \n",
        "\n"
      ]
    },
    {
      "cell_type": "code",
      "metadata": {
        "id": "RJ5v9kvc946l"
      },
      "source": [
        "balance = 5000\n",
        "annualInterestRate = 0.18\n",
        "upperBound = balance * (1 + annualInterestRate)\n",
        "lowerBound = balance / 12"
      ],
      "execution_count": null,
      "outputs": []
    },
    {
      "cell_type": "code",
      "metadata": {
        "id": "pF9j4fxt2aEZ"
      },
      "source": [
        "def recursiveBisectionSmallest(upper, lower, balance):\n",
        "  annualInterestRate = 0.18\n",
        "  payment = ((upper + lower) / 2)\n",
        "  new_Balance = balance\n",
        "\n",
        "\n",
        "\n",
        "  for month in range(12):\n",
        "    new_Balance -= payment\n",
        "    new_Balance += new_Balance * (annualInterestRate / 12)\n",
        "    #print(\"low = \", lower, \"upper = \", upper, \"payment = \", payment) #for debugging\n",
        "\n",
        "  if 0 < abs(new_Balance) and abs(new_Balance) < 0.01: #sets the precision\n",
        "    print(\"The smallest monthly payment is: \", round(payment, 2)) #base case\n",
        "    return\n",
        "  elif new_Balance < 0: #balance is negative, payment is too high.\n",
        "    recursiveBisectionSmallest(payment, lower, balance) #run again with payment as the new upper bound\n",
        "  elif new_Balance > 0: #balance is positive, payment is too low.\n",
        "    recursiveBisectionSmallest(upper, payment, balance) #run again with payment as the new lower bound  "
      ],
      "execution_count": null,
      "outputs": []
    },
    {
      "cell_type": "markdown",
      "metadata": {
        "id": "teohDrkx8JMJ"
      },
      "source": [
        "For running the recursive bisection function, let's use the values:\n",
        "\n",
        "balance = 5000\n",
        "\n",
        "lower bound = 5000/12 = \n",
        "\n",
        "upper bound = balance *(1+monthlyInterestRate**12) / 12\n",
        "\n",
        "if defined before the function, they won't be called when the function is called"
      ]
    },
    {
      "cell_type": "code",
      "metadata": {
        "colab": {
          "base_uri": "https://localhost:8080/"
        },
        "id": "j_tUc7H6-T5w",
        "outputId": "642db06c-f38b-4abd-9c23-64021a5a6c1a"
      },
      "source": [
        "recursiveBisectionSmallest(upperBound, lowerBound, balance)"
      ],
      "execution_count": null,
      "outputs": [
        {
          "output_type": "stream",
          "text": [
            "The smallest monthly payment is:  451.63\n"
          ],
          "name": "stdout"
        }
      ]
    },
    {
      "cell_type": "markdown",
      "metadata": {
        "id": "ocav32ruHPfx"
      },
      "source": [
        "#Coding Problem 3"
      ]
    },
    {
      "cell_type": "markdown",
      "metadata": {
        "id": "Gw89JfyKHR1A"
      },
      "source": [
        ""
      ]
    },
    {
      "cell_type": "markdown",
      "metadata": {
        "id": "af0ety9nj9sO"
      },
      "source": [
        "#Coding Problem 4"
      ]
    },
    {
      "cell_type": "markdown",
      "metadata": {
        "id": "dwqIHQE6kBBq"
      },
      "source": [
        ""
      ]
    },
    {
      "cell_type": "code",
      "metadata": {
        "id": "pbW0c3t3mpUr"
      },
      "source": [
        "run ps4a.py\n"
      ],
      "execution_count": null,
      "outputs": []
    },
    {
      "cell_type": "code",
      "metadata": {
        "id": "Gc6hrVEFoAGw"
      },
      "source": [
        "run test_ps4a.py"
      ],
      "execution_count": null,
      "outputs": []
    },
    {
      "cell_type": "markdown",
      "metadata": {
        "id": "9LcpyxFLoU8N"
      },
      "source": [
        "The first step is to implement some code that allows us to calculate the score for a single word. The function getWordScore should accept as input a string of lowercase letters (a word) and return the integer score for that word, using the game's scoring rules."
      ]
    },
    {
      "cell_type": "code",
      "metadata": {
        "id": "UoV0ahKCoYUA"
      },
      "source": [
        "# this is the code from within ps4a.py\n",
        "def getWordScore(word, n):\n",
        "    \"\"\"\n",
        "    Returns the score for a word. Assumes the word is a valid word.\n",
        "\n",
        "    The score for a word is the sum of the points for letters in the\n",
        "    word, multiplied by the length of the word, PLUS 50 points if all n\n",
        "    letters are used on the first turn.\n",
        "\n",
        "    Letters are scored as in Scrabble; A is worth 1, B is worth 3, C is\n",
        "    worth 3, D is worth 2, E is worth 1, and so on (see SCRABBLE_LETTER_VALUES)\n",
        "\n",
        "    word: string (lowercase letters)\n",
        "    n: integer (HAND_SIZE; i.e., hand size required for additional points)\n",
        "    returns: int >= 0\n",
        "    \"\"\"\n",
        "    # TO DO ... <-- Remove this comment when you code this function\n",
        "    # needs to check the value of each character in the string against the \n",
        "    # SCRABBLE_LETTER_VALUES and find the sum of those values.\n",
        "    # also if all letters from the hand are used, add 50.\n",
        "\n",
        "    wordScore = 0; #The base score is 0.\n",
        "\n",
        "    for character in word:\n",
        "      #compare character to SCRABBLE_LETTER_VALUES\n",
        "      #if character is a key in dictionary return the value?\n",
        "      #add value to score\n",
        "      wordScore += SCRABBLE_LETTER_VALUES[character];\n",
        "      wordScore = wordScore * len(word);\n",
        "    \n",
        "    if (len(word) == n):\n",
        "      wordScore += 50;\n",
        "    \n",
        "    return wordScore;"
      ],
      "execution_count": null,
      "outputs": []
    },
    {
      "cell_type": "markdown",
      "metadata": {
        "id": "0BWbDTXparBY"
      },
      "source": [
        "#ps4a.py\n",
        "\n"
      ]
    },
    {
      "cell_type": "code",
      "metadata": {
        "id": "UMMqfeJRZA58",
        "colab": {
          "base_uri": "https://localhost:8080/"
        },
        "outputId": "e0a1f43a-f3a1-46be-821f-3474102c6d4a"
      },
      "source": [
        "# The 6.00 Word Game\n",
        "\n",
        "import random\n",
        "import string\n",
        "\n",
        "VOWELS = 'aeiou'\n",
        "CONSONANTS = 'bcdfghjklmnpqrstvwxyz'\n",
        "HAND_SIZE = 7\n",
        "\n",
        "SCRABBLE_LETTER_VALUES = {\n",
        "    'a': 1, 'b': 3, 'c': 3, 'd': 2, 'e': 1, 'f': 4, 'g': 2, 'h': 4, 'i': 1, 'j': 8, 'k': 5, 'l': 1, 'm': 3, 'n': 1, 'o': 1, 'p': 3, 'q': 10, 'r': 1, 's': 1, 't': 1, 'u': 1, 'v': 4, 'w': 4, 'x': 8, 'y': 4, 'z': 10\n",
        "}\n",
        "\n",
        "# -----------------------------------\n",
        "# Helper code\n",
        "# (you don't need to understand this helper code)\n",
        "\n",
        "WORDLIST_FILENAME = \"words.txt\"\n",
        "\n",
        "def loadWords():\n",
        "    \"\"\"\n",
        "    Returns a list of valid words. Words are strings of lowercase letters.\n",
        "    \n",
        "    Depending on the size of the word list, this function may\n",
        "    take a while to finish.\n",
        "    \"\"\"\n",
        "    print(\"Loading word list from file...\")\n",
        "    # inFile: file\n",
        "    inFile = open(WORDLIST_FILENAME, 'r')\n",
        "    # wordList: list of strings\n",
        "    wordList = []\n",
        "    for line in inFile:\n",
        "        wordList.append(line.strip().lower())\n",
        "    print(\"  \", len(wordList), \"words loaded.\")\n",
        "    return wordList\n",
        "\n",
        "def getFrequencyDict(sequence):\n",
        "    \"\"\"\n",
        "    Returns a dictionary where the keys are elements of the sequence\n",
        "    and the values are integer counts, for the number of times that\n",
        "    an element is repeated in the sequence.\n",
        "\n",
        "    sequence: string or list\n",
        "    return: dictionary\n",
        "    \"\"\"\n",
        "    # freqs: dictionary (element_type -> int)\n",
        "    freq = {}\n",
        "    for x in sequence:\n",
        "        freq[x] = freq.get(x,0) + 1\n",
        "    return freq\n",
        "\t\n",
        "\n",
        "# (end of helper code)\n",
        "# -----------------------------------\n",
        "\n",
        "#\n",
        "# Problem #1: Scoring a word\n",
        "#\n",
        "def getWordScore(word, n):\n",
        "    \"\"\"\n",
        "    Returns the score for a word. Assumes the word is a valid word.\n",
        "\n",
        "    The score for a word is the sum of the points for letters in the\n",
        "    word, multiplied by the length of the word, PLUS 50 points if all n\n",
        "    letters are used on the first turn.\n",
        "\n",
        "    Letters are scored as in Scrabble; A is worth 1, B is worth 3, C is\n",
        "    worth 3, D is worth 2, E is worth 1, and so on (see SCRABBLE_LETTER_VALUES)\n",
        "\n",
        "    word: string (lowercase letters)\n",
        "    n: integer (HAND_SIZE; i.e., hand size required for additional points)\n",
        "    returns: int >= 0\n",
        "    \"\"\"\n",
        "    \n",
        "    score = 0 #The base score is 0.\n",
        "\n",
        "    for character in word:\n",
        "      #compare character to SCRABBLE_LETTER_VALUES\n",
        "      #if character is a key in dictionary return the value?\n",
        "      #add value to score\n",
        "      score += SCRABBLE_LETTER_VALUES[character]\n",
        "      \n",
        "    score = score * len(word)\n",
        "    \n",
        "    if (len(word) == n):\n",
        "      score += 50\n",
        "    \n",
        "    return score\n",
        "\n",
        "\n",
        "\n",
        "#\n",
        "# Problem #2: Make sure you understand how this function works and what it does!\n",
        "#\n",
        "def displayHand(hand):\n",
        "    \"\"\"\n",
        "    Displays the letters currently in the hand.\n",
        "\n",
        "    For example:\n",
        "    >>> displayHand({'a':1, 'x':2, 'l':3, 'e':1})\n",
        "    Should print out something like:\n",
        "       a x x l l l e\n",
        "    The order of the letters is unimportant.\n",
        "\n",
        "    hand: dictionary (string -> int)\n",
        "    \"\"\"\n",
        "    for letter in hand.keys():\n",
        "        for j in range(hand[letter]):\n",
        "             print(letter,end=\" \")       # print all on the same line\n",
        "    print()                             # print an empty line\n",
        "\n",
        "#\n",
        "# Problem #2: Make sure you understand how this function works and what it does!\n",
        "#\n",
        "def dealHand(n):\n",
        "    \"\"\"\n",
        "    Returns a random hand containing n lowercase letters.\n",
        "    At least n/3 the letters in the hand should be VOWELS.\n",
        "\n",
        "    Hands are represented as dictionaries. The keys are\n",
        "    letters and the values are the number of times the\n",
        "    particular letter is repeated in that hand.\n",
        "\n",
        "    n: int >= 0\n",
        "    returns: dictionary (string -> int)\n",
        "    \"\"\"\n",
        "    hand={}\n",
        "    numVowels = n // 3\n",
        "    \n",
        "    for i in range(numVowels):\n",
        "        x = VOWELS[random.randrange(0,len(VOWELS))]\n",
        "        hand[x] = hand.get(x, 0) + 1\n",
        "        \n",
        "    for i in range(numVowels, n):    \n",
        "        x = CONSONANTS[random.randrange(0,len(CONSONANTS))]\n",
        "        hand[x] = hand.get(x, 0) + 1\n",
        "        \n",
        "    return hand\n",
        "\n",
        "#\n",
        "# Problem #2: Update a hand by removing letters\n",
        "#\n",
        "def updateHand(hand, word):\n",
        "    \"\"\"\n",
        "    Assumes that 'hand' has all the letters in word.\n",
        "    In other words, this assumes that however many times\n",
        "    a letter appears in 'word', 'hand' has at least as\n",
        "    many of that letter in it. \n",
        "\n",
        "    Updates the hand: uses up the letters in the given word\n",
        "    and returns the new hand, without those letters in it.\n",
        "\n",
        "    Has no side effects: does not modify hand.\n",
        "\n",
        "    word: string\n",
        "    hand: dictionary (string -> int)    \n",
        "    returns: dictionary (string -> int)\n",
        "    \"\"\"\n",
        "    \n",
        "    newHand = hand.copy() #creates a copy of the hand for manipulation\n",
        "    #print(newHand) #debugging\n",
        "    for letter in word:\n",
        "      newHand[letter] -= 1 #subtract 1 from the value of the letter\n",
        "      #print(newHand) #debugging\n",
        "  \n",
        "    for letter in hand:\n",
        "      if (newHand.get(letter) == 0): #if value of letter is >1 still present\n",
        "        newHand.pop(letter) #this line is messing up\n",
        "\n",
        "    #return displayHand(newHand)\n",
        "    return newHand\n",
        "\n",
        "\n",
        "#\n",
        "# Problem #3: Test word validity\n",
        "#\n",
        "def isValidWord(word, hand, wordList):\n",
        "    \"\"\"\n",
        "    Returns True if word is in the wordList and is entirely\n",
        "    composed of letters in the hand. Otherwise, returns False.\n",
        "\n",
        "    Does not mutate hand or wordList.\n",
        "   \n",
        "    word: string\n",
        "    hand: dictionary (string -> int)\n",
        "    wordList: list of lowercase strings\n",
        "    \"\"\"\n",
        "    #newHand = hand.copy() #creates a copy of hand\n",
        "    validWord = True #we'll assume the entry is valid unless otherwise found\n",
        "    if (word not in wordList): #checks if word is in wordList\n",
        "      #print(\"WORDLIST ERROR\")\n",
        "      return False\n",
        "\n",
        "    for letter in word:\n",
        "      if letter not in hand: #goes over keys\n",
        "        return False #if letter is not in hand, false\n",
        "      if hand.get(letter,0) == 0 or hand.get(letter) < word.count(letter):\n",
        "        return False #if the value of the letter is zero, or there are more\n",
        "        #instnaces of the letter in the word than the number in hand, flase\n",
        "\n",
        "\n",
        "    return validWord #otherwise the word is valid\n",
        "\n",
        "#\n",
        "# Problem #4: Playing a hand\n",
        "#\n",
        "\n",
        "def calculateHandlen(hand):\n",
        "    \"\"\" \n",
        "    Returns the length (number of letters) in the current hand.\n",
        "    \n",
        "    hand: dictionary (string-> int)\n",
        "    returns: integer\n",
        "    \"\"\"\n",
        "\n",
        "    length = 0\n",
        "\n",
        "    for letter in hand:\n",
        "      length += hand.get(letter)\n",
        "\n",
        "    return length  \n",
        "\n",
        "\n",
        "\n",
        "def playHand(hand, wordList, n):\n",
        "    \"\"\"\n",
        "    Allows the user to play the given hand, as follows:\n",
        "\n",
        "    * The hand is displayed.\n",
        "    * The user may input a word or a single period (the string \".\") \n",
        "      to indicate they're done playing\n",
        "    * Invalid words are rejected, and a message is displayed asking\n",
        "      the user to choose another word until they enter a valid word or \".\"\n",
        "    * When a valid word is entered, it uses up letters from the hand.\n",
        "    * After every valid word: the score for that word is displayed,\n",
        "      the remaining letters in the hand are displayed, and the user\n",
        "      is asked to input another word.\n",
        "    * The sum of the word scores is displayed when the hand finishes.\n",
        "    * The hand finishes when there are no more unused letters or the user\n",
        "      inputs a \".\"\n",
        "\n",
        "      hand: dictionary (string -> int)\n",
        "      wordList: list of lowercase strings\n",
        "      n: integer (HAND_SIZE; i.e., hand size required for additional points)\n",
        "      \n",
        "    \"\"\"\n",
        "    currentHand = hand.copy()\n",
        "    # Keep track of the total score\n",
        "    totalScore = 0\n",
        "    # As long as there are still letters left in the hand:\n",
        "    while calculateHandlen(currentHand) > 0:\n",
        "        # Display the hand\n",
        "        displayHand(currentHand)\n",
        "        # Ask user for input\n",
        "        userWord = input(\"Please enter a word or a '.' if you wish to stop playing:\")\n",
        "        # If the input is a single period:\n",
        "        if (userWord == '.'): \n",
        "            # End the game (break out of the loop)\n",
        "            break\n",
        "        else:   \n",
        "        # Otherwise (the input is not a single period):\n",
        "          if (isValidWord(userWord, currentHand, wordList) == False):\n",
        "            # If the word is not valid:\n",
        "            print(\"The word is not valid. Please try again.\")\n",
        "                # Reject invalid word (print a message followed by a blank line)\n",
        "            print()\n",
        "            # Otherwise (the word is valid):\n",
        "          elif (isValidWord(userWord, currentHand, wordList) == True):\n",
        "                # Tell the user how many points the word earned, and the updated total score, in one line followed by a blank line\n",
        "                points = getWordScore(userWord, HAND_SIZE)\n",
        "                print(\"You scored \", points, \" points!\")\n",
        "                print()\n",
        "                totalScore += points\n",
        "                # Update the hand \n",
        "                currentHand = updateHand(currentHand, userWord)\n",
        "                \n",
        "\n",
        "    # Game is over (user entered a '.' or ran out of letters), so tell user the total score\n",
        "    print(\"Game over! Your total score is: \", totalScore)\n",
        "    print()\n",
        "    \n",
        "\n",
        "#\n",
        "# Problem #5: Playing a game\n",
        "# \n",
        "\n",
        "def playGame(wordList):\n",
        "    \"\"\"\n",
        "    Allow the user to play an arbitrary number of hands.\n",
        "\n",
        "    1) Asks the user to input 'n' or 'r' or 'e'.\n",
        "      * If the user inputs 'n', let the user play a new (random) hand.\n",
        "      * If the user inputs 'r', let the user play the last hand again.\n",
        "      * If the user inputs 'e', exit the game.\n",
        "      * If the user inputs anything else, tell them their input was invalid.\n",
        " \n",
        "    2) When done playing the hand, repeat from step 1    \n",
        "    \"\"\"\n",
        "    playableHand = None\n",
        "    playing = True\n",
        "    while (playing == True):\n",
        "      userInput = input(\"Please input a command: 'n' to play a new hand, 'r' to replay the last hand, or 'e' to exit.\")\n",
        "      if (userInput == 'n'):\n",
        "        playableHand = dealHand(HAND_SIZE)\n",
        "        playHand(playableHand, wordList, HAND_SIZE)\n",
        "      elif (userInput == 'r'):\n",
        "        if (playableHand == None):\n",
        "          print(\"Please play a hand first.\")\n",
        "        else:\n",
        "            playHand(playableHand, wordList, HAND_SIZE)\n",
        "      elif (userInput == 'e'):\n",
        "        print(\"Thanks for playing!\")\n",
        "        playing = False\n",
        "      else:\n",
        "        print(\"Your input was invalid. Please Try again.\")\n",
        "        \n",
        "\n",
        "\n",
        "\n",
        "\n",
        "#\n",
        "# Build data structures used for entire session and play game\n",
        "#\n",
        "if __name__ == '__main__':\n",
        "    wordList = loadWords()\n",
        "    playGame(wordList)\n"
      ],
      "execution_count": 2,
      "outputs": [
        {
          "output_type": "stream",
          "text": [
            "Loading word list from file...\n",
            "   83667 words loaded.\n",
            "Please input a command: 'n' to play a new hand, 'r' to replay the last hand, or 'e' to exit.n\n",
            "a u l n h z x \n",
            "Please enter a word or a '.' if you wish to stop playing:haul\n",
            "You scored  28  points!\n",
            "\n",
            "n z x \n",
            "Please enter a word or a '.' if you wish to stop playing:.\n",
            "Game over! Your total score is:  28\n",
            "\n",
            "Please input a command: 'n' to play a new hand, 'r' to replay the last hand, or 'e' to exit.e\n",
            "Thanks for playing!\n"
          ],
          "name": "stdout"
        }
      ]
    },
    {
      "cell_type": "markdown",
      "metadata": {
        "id": "fNm41YGCbOdm"
      },
      "source": [
        "##ps4a.test"
      ]
    },
    {
      "cell_type": "code",
      "metadata": {
        "id": "VUmDPz6OZIg2"
      },
      "source": [
        "#from ps4a import *\n",
        "\n",
        "#\n",
        "# Test code\n",
        "# You don't need to understand how this test code works (but feel free to look it over!)\n",
        "\n",
        "# To run these tests, simply run this file (open up in your IDE, then run the file as normal)\n",
        "\n",
        "def test_getWordScore():\n",
        "    \"\"\"\n",
        "    Unit test for getWordScore\n",
        "    \"\"\"\n",
        "    failure=False\n",
        "    # dictionary of words and scores\n",
        "    words = {(\"\", 7):0, (\"it\", 7):4, (\"was\", 7):18, (\"scored\", 7):54, (\"waybill\", 7):155, (\"outgnaw\", 7):127, (\"fork\", 7):44, (\"fork\", 4):94}\n",
        "    for (word, n) in words.keys():\n",
        "        score = getWordScore(word, n)\n",
        "        if score != words[(word, n)]:\n",
        "            print(\"FAILURE: test_getWordScore()\")\n",
        "            print(\"\\tExpected\", words[(word, n)], \"points but got '\" + str(score) + \"' for word '\" + word + \"', n=\" + str(n))\n",
        "            failure=True\n",
        "    if not failure:\n",
        "        print(\"SUCCESS: test_getWordScore()\")\n",
        "\n",
        "# end of test_getWordScore\n",
        "\n",
        "\n",
        "def test_updateHand():\n",
        "    \"\"\"\n",
        "    Unit test for updateHand\n",
        "    \"\"\"\n",
        "    # test 1\n",
        "    handOrig = {'a':1, 'q':1, 'l':2, 'm':1, 'u':1, 'i':1}\n",
        "    handCopy = handOrig.copy()\n",
        "    word = \"quail\"\n",
        "\n",
        "    hand2 = updateHand(handCopy, word)\n",
        "    expectedHand1 = {'l':1, 'm':1}\n",
        "    expectedHand2 = {'a':0, 'q':0, 'l':1, 'm':1, 'u':0, 'i':0}\n",
        "    if hand2 != expectedHand1 and hand2 != expectedHand2:\n",
        "        print(\"FAILURE: test_updateHand('\"+ word +\"', \" + str(handOrig) + \")\")\n",
        "        print(\"\\tReturned: \", hand2, \"\\n\\t-- but expected:\", expectedHand1, \"or\", expectedHand2)\n",
        "\n",
        "        return # exit function\n",
        "    if handCopy != handOrig:\n",
        "        print(\"FAILURE: test_updateHand('\"+ word +\"', \" + str(handOrig) + \")\")\n",
        "        print(\"\\tOriginal hand was\", handOrig)\n",
        "        print(\"\\tbut implementation of updateHand mutated the original hand!\")\n",
        "        print(\"\\tNow the hand looks like this:\", handCopy)\n",
        "        \n",
        "        return # exit function\n",
        "        \n",
        "    # test 2\n",
        "    handOrig = {'e':1, 'v':2, 'n':1, 'i':1, 'l':2}\n",
        "    handCopy = handOrig.copy()\n",
        "    word = \"evil\"\n",
        "\n",
        "    hand2 = updateHand(handCopy, word)\n",
        "    expectedHand1 = {'v':1, 'n':1, 'l':1}\n",
        "    expectedHand2 = {'e':0, 'v':1, 'n':1, 'i':0, 'l':1}\n",
        "    if hand2 != expectedHand1 and hand2 != expectedHand2:\n",
        "        print(\"FAILURE: test_updateHand('\"+ word +\"', \" + str(handOrig) + \")\")\n",
        "        print(\"\\tReturned: \", hand2, \"\\n\\t-- but expected:\", expectedHand1, \"or\", expectedHand2)\n",
        "\n",
        "        return # exit function\n",
        "\n",
        "    if handCopy != handOrig:\n",
        "        print(\"FAILURE: test_updateHand('\"+ word +\"', \" + str(handOrig) + \")\")\n",
        "        print(\"\\tOriginal hand was\", handOrig)\n",
        "        print(\"\\tbut implementation of updateHand mutated the original hand!\")\n",
        "        print(\"\\tNow the hand looks like this:\", handCopy)\n",
        "        \n",
        "        return # exit function\n",
        "\n",
        "    # test 3\n",
        "    handOrig = {'h': 1, 'e': 1, 'l': 2, 'o': 1}\n",
        "    handCopy = handOrig.copy()\n",
        "    word = \"hello\"\n",
        "\n",
        "    hand2 = updateHand(handCopy, word)\n",
        "    expectedHand1 = {}\n",
        "    expectedHand2 = {'h': 0, 'e': 0, 'l': 0, 'o': 0}\n",
        "    if hand2 != expectedHand1 and hand2 != expectedHand2:\n",
        "        print(\"FAILURE: test_updateHand('\"+ word +\"', \" + str(handOrig) + \")\")\n",
        "        print(\"\\tReturned: \", hand2, \"\\n\\t-- but expected:\", expectedHand1, \"or\", expectedHand2)\n",
        "        \n",
        "        return # exit function\n",
        "\n",
        "    if handCopy != handOrig:\n",
        "        print(\"FAILURE: test_updateHand('\"+ word +\"', \" + str(handOrig) + \")\")\n",
        "        print(\"\\tOriginal hand was\", handOrig)\n",
        "        print(\"\\tbut implementation of updateHand mutated the original hand!\")\n",
        "        print(\"\\tNow the hand looks like this:\", handCopy)\n",
        "        \n",
        "        return # exit function\n",
        "\n",
        "    print(\"SUCCESS: test_updateHand()\")\n",
        "\n",
        "# end of test_updateHand\n",
        "\n",
        "def test_isValidWord(wordList):\n",
        "    \"\"\"\n",
        "    Unit test for isValidWord\n",
        "    \"\"\"\n",
        "    failure=False\n",
        "    # test 1\n",
        "    word = \"hello\"\n",
        "    handOrig = getFrequencyDict(word)\n",
        "    handCopy = handOrig.copy()\n",
        "\n",
        "    if not isValidWord(word, handCopy, wordList):\n",
        "        print(\"FAILURE: test_isValidWord()\")\n",
        "        print(\"\\tExpected True, but got False for word: '\" + word + \"' and hand:\", handOrig)\n",
        "\n",
        "        failure = True\n",
        "\n",
        "    # Test a second time to see if wordList or hand has been modified\n",
        "    if not isValidWord(word, handCopy, wordList):\n",
        "        print(\"FAILURE: test_isValidWord()\")\n",
        "\n",
        "        if handCopy != handOrig:\n",
        "            print(\"\\tTesting word\", word, \"for a second time - be sure you're not modifying hand.\")\n",
        "            print(\"\\tAt this point, hand ought to be\", handOrig, \"but it is\", handCopy)\n",
        "\n",
        "        else:\n",
        "            print(\"\\tTesting word\", word, \"for a second time - have you modified wordList?\")\n",
        "            wordInWL = word in wordList\n",
        "            print(\"The word\", word, \"should be in wordList - is it?\", wordInWL)\n",
        "\n",
        "        print(\"\\tExpected True, but got False for word: '\" + word + \"' and hand:\", handCopy)\n",
        "\n",
        "        failure = True\n",
        "\n",
        "\n",
        "    # test 2\n",
        "    hand = {'r': 1, 'a': 3, 'p': 2, 'e': 1, 't': 1, 'u':1}\n",
        "    word = \"rapture\"\n",
        "\n",
        "    if  isValidWord(word, hand, wordList):\n",
        "        print(\"FAILURE: test_isValidWord()\")\n",
        "        print(\"\\tExpected False, but got True for word: '\" + word + \"' and hand:\", hand)\n",
        "\n",
        "        failure = True        \n",
        "\n",
        "    # test 3\n",
        "    hand = {'n': 1, 'h': 1, 'o': 1, 'y': 1, 'd':1, 'w':1, 'e': 2}\n",
        "    word = \"honey\"\n",
        "\n",
        "    if  not isValidWord(word, hand, wordList):\n",
        "        print(\"FAILURE: test_isValidWord()\")\n",
        "        print(\"\\tExpected True, but got False for word: '\"+ word +\"' and hand:\", hand)\n",
        "\n",
        "        failure = True                        \n",
        "\n",
        "    # test 4\n",
        "    hand = {'r': 1, 'a': 3, 'p': 2, 't': 1, 'u':2}\n",
        "    word = \"honey\"\n",
        "\n",
        "    if  isValidWord(word, hand, wordList):\n",
        "        print(\"FAILURE: test_isValidWord()\")\n",
        "        print(\"\\tExpected False, but got True for word: '\" + word + \"' and hand:\", hand)\n",
        "        \n",
        "        failure = True\n",
        "\n",
        "    # test 5\n",
        "    hand = {'e':1, 'v':2, 'n':1, 'i':1, 'l':2}\n",
        "    word = \"evil\"\n",
        "    \n",
        "    if  not isValidWord(word, hand, wordList):\n",
        "        print(\"FAILURE: test_isValidWord()\")\n",
        "        print(\"\\tExpected True, but got False for word: '\" + word + \"' and hand:\", hand)\n",
        "        \n",
        "        failure = True\n",
        "        \n",
        "    # test 6\n",
        "    word = \"even\"\n",
        "\n",
        "    if  isValidWord(word, hand, wordList):\n",
        "        print(\"FAILURE: test_isValidWord()\")\n",
        "        print(\"\\tExpected False, but got True for word: '\" + word + \"' and hand:\", hand)\n",
        "        print(\"\\t(If this is the only failure, make sure isValidWord() isn't mutating its inputs)\")\n",
        "        \n",
        "        failure = True        \n",
        "\n",
        "    if not failure:\n",
        "        print(\"SUCCESS: test_isValidWord()\")\n",
        "\n",
        "\n",
        "wordList = loadWords()\n",
        "print(\"----------------------------------------------------------------------\")\n",
        "print(\"Testing getWordScore...\")\n",
        "test_getWordScore()\n",
        "print(\"----------------------------------------------------------------------\")\n",
        "print(\"Testing updateHand...\")\n",
        "test_updateHand()\n",
        "print(\"----------------------------------------------------------------------\")\n",
        "print(\"Testing isValidWord...\")\n",
        "test_isValidWord(wordList)\n",
        "print(\"----------------------------------------------------------------------\")\n",
        "print(\"All done!\")\n"
      ],
      "execution_count": null,
      "outputs": []
    },
    {
      "cell_type": "markdown",
      "metadata": {
        "id": "lnvCHHHJ8WzW"
      },
      "source": [
        "#ps4b.py\n"
      ]
    },
    {
      "cell_type": "code",
      "metadata": {
        "colab": {
          "base_uri": "https://localhost:8080/"
        },
        "id": "YJpfDimL8c-4",
        "outputId": "ee9f6e0c-9f9f-4a13-dcbd-6cebe40a539e"
      },
      "source": [
        "#from ps4a import *\n",
        "import time\n",
        "\n",
        "\n",
        "#\n",
        "#\n",
        "# Computer chooses a word\n",
        "#\n",
        "#\n",
        "def compChooseWord(hand, wordList, n):\n",
        "    \"\"\"\n",
        "    Given a hand and a wordList, find the word that gives \n",
        "    the maximum value score, and return it.\n",
        "\n",
        "    This word should be calculated by considering all the words\n",
        "    in the wordList.\n",
        "\n",
        "    If no words in the wordList can be made from the hand, return None.\n",
        "\n",
        "    hand: dictionary (string -> int)\n",
        "    wordList: list (string)\n",
        "    n: integer (HAND_SIZE; i.e., hand size required for additional points)\n",
        "\n",
        "    returns: string or None\n",
        "    \"\"\"\n",
        "    # Create a new variable to store the maximum score seen so far (initially 0)\n",
        "    bestScore = 0\n",
        "    # Create a new variable to store the best word seen so far (initially None)  \n",
        "    bestWord = None\n",
        "    # For each word in the wordList\n",
        "    for word in wordList:\n",
        "        # If you can construct the word from your hand\n",
        "        if isValidWord(word, hand, wordList):\n",
        "            # find out how much making that word is worth\n",
        "            score = getWordScore(word, n)\n",
        "            # If the score for that word is higher than your best score\n",
        "            if (score > bestScore):\n",
        "                # update your best score, and best word accordingly\n",
        "                bestScore = score\n",
        "                bestWord = word\n",
        "    # return the best word you found.\n",
        "    return bestWord\n",
        "\n",
        "#\n",
        "# Computer plays a hand\n",
        "#\n",
        "def compPlayHand(hand, wordList, n):\n",
        "    \"\"\"\n",
        "    Allows the computer to play the given hand, following the same procedure\n",
        "    as playHand, except instead of the user choosing a word, the computer \n",
        "    chooses it.\n",
        "\n",
        "    1) The hand is displayed.\n",
        "    2) The computer chooses a word.\n",
        "    3) After every valid word: the word and the score for that word is \n",
        "    displayed, the remaining letters in the hand are displayed, and the \n",
        "    computer chooses another word.\n",
        "    4)  The sum of the word scores is displayed when the hand finishes.\n",
        "    5)  The hand finishes when the computer has exhausted its possible\n",
        "    choices (i.e. compChooseWord returns None).\n",
        " \n",
        "    hand: dictionary (string -> int)\n",
        "    wordList: list (string)\n",
        "    n: integer (HAND_SIZE; i.e., hand size required for additional points)\n",
        "    \"\"\"\n",
        "    # Keep track of the total score\n",
        "    totalScore = 0\n",
        "    # As long as there are still letters left in the hand:\n",
        "    while (calculateHandlen(hand) > 0) :\n",
        "        # Display the hand\n",
        "        print(\"Current Hand: \", end=' ')\n",
        "        displayHand(hand)\n",
        "        # computer's word\n",
        "        word = compChooseWord(hand, wordList, n)\n",
        "        # If the input is a single period:\n",
        "        if word == None:\n",
        "            # End the game (break out of the loop)\n",
        "            break\n",
        "            \n",
        "        # Otherwise (the input is not a single period):\n",
        "        else :\n",
        "            # If the word is not valid:\n",
        "            if (not isValidWord(word, hand, wordList)) :\n",
        "                print('This is a terrible error! I need to check my own code!')\n",
        "                break\n",
        "            # Otherwise (the word is valid):\n",
        "            else :\n",
        "                # Tell the user how many points the word earned, and the updated total score \n",
        "                score = getWordScore(word, n)\n",
        "                totalScore += score\n",
        "                print('\"' + word + '\" earned ' + str(score) + ' points. Total: ' + str(totalScore) + ' points')              \n",
        "                # Update hand and show the updated hand to the user\n",
        "                hand = updateHand(hand, word)\n",
        "                print()\n",
        "    # Game is over (user entered a '.' or ran out of letters), so tell user the total score\n",
        "    print('Total score: ' + str(totalScore) + ' points.')\n",
        "\n",
        "    \n",
        "#\n",
        "# Problem #6: Playing a game\n",
        "#\n",
        "#\n",
        "def playGame(wordList):\n",
        "    \"\"\"\n",
        "    Allow the user to play an arbitrary number of hands.\n",
        " \n",
        "    1) Asks the user to input 'n' or 'r' or 'e'.\n",
        "        * If the user inputs 'e', immediately exit the game.\n",
        "        * If the user inputs anything that's not 'n', 'r', or 'e', keep asking them again.\n",
        "        \n",
        "\n",
        "    2) Asks the user to input a 'u' or a 'c'.\n",
        "        * If the user inputs anything that's not 'c' or 'u', keep asking them again.\n",
        "\n",
        "    3) Switch functionality based on the above choices:\n",
        "        * If the user inputted 'n', play a new (random) hand.\n",
        "        * Else, if the user inputted 'r', play the last hand again.\n",
        "      \n",
        "        * If the user inputted 'u', let the user play the game\n",
        "          with the selected hand, using playHand.\n",
        "        * If the user inputted 'c', let the computer play the \n",
        "          game with the selected hand, using compPlayHand.\n",
        "\n",
        "    4) After the computer or user has played the hand, repeat from step 1\n",
        "\n",
        "    wordList: list (string)\n",
        "    \"\"\"\n",
        "   \n",
        "    playableHand = None\n",
        "    playing = True\n",
        "    while (playing == True):\n",
        "      userInput = input(\"Please input a command: 'n' to play a new hand, 'r' to replay the last hand, or 'e' to exit.\")\n",
        "      choiceInput = input (\"Please input the desired player: 'u' to let the user play, or 'c' to let the computer play.\")\n",
        "      if (userInput == 'n'):\n",
        "        playableHand = dealHand(HAND_SIZE)\n",
        "        if (choiceInput == 'u'):\n",
        "          playHand(playableHand, wordList, HAND_SIZE)\n",
        "        elif (choiceInput == 'c'):\n",
        "          compPlayHand(playableHand, wordList, HAND_SIZE)\n",
        "      elif (userInput == 'r'):\n",
        "        if (playableHand == None):\n",
        "          print(\"Please play a hand first.\")\n",
        "        else:\n",
        "          if (choiceInput == 'u'):\n",
        "            playHand(playableHand, wordList, HAND_SIZE)\n",
        "          elif (choiceInput == 'c'):\n",
        "            compPlayHand(playableHand, wordList, HAND_SIZE)\n",
        "      elif (userInput == 'e'):\n",
        "        print(\"Thanks for playing!\")\n",
        "        playing = False\n",
        "      else:\n",
        "        print(\"Your input was invalid. Please Try again.\")\n",
        "        \n",
        "#\n",
        "# Build data structures used for entire session and play game\n",
        "#\n",
        "if __name__ == '__main__':\n",
        "    wordList = loadWords()\n",
        "    playGame(wordList)\n",
        "\n",
        "\n"
      ],
      "execution_count": 4,
      "outputs": [
        {
          "output_type": "stream",
          "text": [
            "Loading word list from file...\n",
            "   83667 words loaded.\n",
            "playGame not yet implemented.\n",
            "Please input a command: 'n' to play a new hand, 'r' to replay the last hand, or 'e' to exit.n\n",
            "Please input the desired player: 'u' to let the user play, or 'c' to let the computer play.u\n",
            "o u n k x b f \n",
            "Please enter a word or a '.' if you wish to stop playing:xou\n",
            "The word is not valid. Please try again.\n",
            "\n",
            "o u n k x b f \n",
            "Please enter a word or a '.' if you wish to stop playing:no\n",
            "You scored  4  points!\n",
            "\n",
            "u k x b f \n",
            "Please enter a word or a '.' if you wish to stop playing:buf\n",
            "The word is not valid. Please try again.\n",
            "\n",
            "u k x b f \n",
            "Please enter a word or a '.' if you wish to stop playing:.\n",
            "Game over! Your total score is:  4\n",
            "\n",
            "Please input a command: 'n' to play a new hand, 'r' to replay the last hand, or 'e' to exit.r\n",
            "Please input the desired player: 'u' to let the user play, or 'c' to let the computer play.c\n",
            "Current Hand:  o u n k x b f \n",
            "\"unbox\" earned 70 points. Total: 70 points\n",
            "\n",
            "Current Hand:  k f \n",
            "Total score: 70 points.\n",
            "Please input a command: 'n' to play a new hand, 'r' to replay the last hand, or 'e' to exit.e\n",
            "Please input the desired player: 'u' to let the user play, or 'c' to let the computer play..\n",
            "Thanks for playing!\n"
          ],
          "name": "stdout"
        }
      ]
    }
  ]
}