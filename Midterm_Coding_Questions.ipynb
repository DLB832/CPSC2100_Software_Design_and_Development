{
  "nbformat": 4,
  "nbformat_minor": 0,
  "metadata": {
    "colab": {
      "name": "Midterm_Coding_Questions.ipynb",
      "provenance": [],
      "authorship_tag": "ABX9TyPJYWkvmR03+/PJqjR6d5QJ",
      "include_colab_link": true
    },
    "kernelspec": {
      "name": "python3",
      "display_name": "Python 3"
    }
  },
  "cells": [
    {
      "cell_type": "markdown",
      "metadata": {
        "id": "view-in-github",
        "colab_type": "text"
      },
      "source": [
        "<a href=\"https://colab.research.google.com/github/DLB832/CPSC2100_Software_Design_and_Development/blob/main/Midterm_Coding_Questions.ipynb\" target=\"_parent\"><img src=\"https://colab.research.google.com/assets/colab-badge.svg\" alt=\"Open In Colab\"/></a>"
      ]
    },
    {
      "cell_type": "markdown",
      "metadata": {
        "id": "djalReAD6Zop"
      },
      "source": [
        "#problem 3"
      ]
    },
    {
      "cell_type": "markdown",
      "metadata": {
        "id": "urpoKrZE6y3o"
      },
      "source": [
        "Write a Python function, twoQuadratics , that takes in two sets of coeficients and x- values and prints the sum of the results of evaluating two quadratic equations. It does not do anything else. That is, you should evaluate and print the result of the following equation: \n",
        "\n",
        "a1 * x1^2 + b1 * x1 + c1 + a2 * x2^2 + b2 * x2 + c2\n",
        "\n",
        "You are given the following function:"
      ]
    },
    {
      "cell_type": "code",
      "metadata": {
        "id": "vyCV1qgi7L03"
      },
      "source": [
        "def evalQuadratic(a, b, c, x):\n",
        "  '''\n",
        "  a, b, c,: numerical values for the coefficients of a quadratic equation\n",
        "  x: numerical value at which to evaluate the quadratic.\n",
        "  '''\n",
        "  return a*x*x + b*x + c"
      ],
      "execution_count": null,
      "outputs": []
    },
    {
      "cell_type": "markdown",
      "metadata": {
        "id": "aNgPHlV68AnR"
      },
      "source": [
        "Use the given function (you don't need to redefine evalQuadratic() in this box; when you call evalQuadratic(), our definition wil be used."
      ]
    },
    {
      "cell_type": "code",
      "metadata": {
        "id": "LgQSxK8N8PmX"
      },
      "source": [
        "def twoQuadratics(a1, b1, c1, x1, a2, b2, c2, x2):\n",
        "  '''\n",
        "  a1, b1, c1: one set of coefficients of a qudratic equation\n",
        "  a2, b2, c2: another set of coefficients of a quadratic equation\n",
        "  x1, x2: values at which to evaluate the quadratics\n",
        "  '''\n",
        "  print(\"The sum of evaluating the two quadratics is: \", evalQuadratic(a1, b1, c1, x1) + evalQuadratic(a2, b2, c2, x2)) "
      ],
      "execution_count": null,
      "outputs": []
    },
    {
      "cell_type": "code",
      "metadata": {
        "id": "Oh_bzvpq_0qP"
      },
      "source": [
        "twoQuadratics(2, 3, 4, 1, 5, 6, 7, 2)"
      ],
      "execution_count": null,
      "outputs": []
    },
    {
      "cell_type": "markdown",
      "metadata": {
        "id": "JXr9p93UAbJo"
      },
      "source": [
        "first quadratic eval\n",
        "\n",
        "2 * 1 * 1 = 2 #a*x*x\n",
        "\n",
        "3 * 1 = 3 #b*x\n",
        "\n",
        " = 4 #+c\n",
        "\n",
        " second quadratic eval\n",
        "\n",
        " 5 * 2 * 2 = 20\n",
        "\n",
        " 6 * 2 = 12\n",
        "\n",
        "  = 7 \n",
        "\n",
        "  sum of quadritc evals\n",
        "\n",
        "  2 + 3 + 4 = 9\n",
        "\n",
        "  20 + 12 + 7 = 39\n",
        "\n",
        "  9 + 39 = 48\n",
        "\n"
      ]
    },
    {
      "cell_type": "markdown",
      "metadata": {
        "id": "KLsuLNc26bYY"
      },
      "source": [
        "#problem 4"
      ]
    },
    {
      "cell_type": "markdown",
      "metadata": {
        "id": "HecfOJ80DC9G"
      },
      "source": [
        "Implement a function that meets the specifications below."
      ]
    },
    {
      "cell_type": "code",
      "metadata": {
        "id": "a1Jt-pBhRICF"
      },
      "source": [
        "L = [[1,2], [3,4], [5,6,7]]"
      ],
      "execution_count": null,
      "outputs": []
    },
    {
      "cell_type": "code",
      "metadata": {
        "id": "4rZ1qX7nDHUK"
      },
      "source": [
        "def deep_reverse(L):\n",
        "  \"\"\"\n",
        "  assumes L is a list of lists whose elements are ints\n",
        "  mutates L such that it reverses its elements and also reverses the order\n",
        "  of the int elements in every element of L.\n",
        "  It does not return anything.\n",
        "  \"\"\"\n",
        "L.reverse()\n",
        "for each in L:\n",
        "  each.reverse()\n",
        "\n",
        "print(L)\n",
        "\n",
        "#print(L)\n",
        "#print()\n",
        "#L[0], L[-1] = L[-1], L[0] #swapping the 0th and last element in a list\n",
        "\n",
        "#print()\n",
        "#for each in L:\n",
        "  #each[0], each[-1] = each[-1], each[0]\n",
        "  #print(each)\n",
        "\n",
        "#print(L)"
      ],
      "execution_count": null,
      "outputs": []
    },
    {
      "cell_type": "markdown",
      "metadata": {
        "id": "cvJgLobZDdVX"
      },
      "source": [
        "For example, if L = [[1, 2], [3, 4], [5, 6, 7]] then deep_reverse(L) mutates L to be [[7, 6, 5], [4, 3], [2, 1]].\n",
        "\n",
        "Paste your entire function, including the definition, in the box below. Do not leave any debugging print statements."
      ]
    },
    {
      "cell_type": "code",
      "metadata": {
        "id": "UpdCKXYTVBuF"
      },
      "source": [
        "def deep_reverse(L):\n",
        "  '''\n",
        "  Apparently docuentation is needed for the function to work. This is a far more elegent and scalable solution.\n",
        "  '''\n",
        "L.reverse()\n",
        "for each in L:\n",
        "  each.reverse()\n",
        "\n",
        "print(L)  "
      ],
      "execution_count": null,
      "outputs": []
    },
    {
      "cell_type": "markdown",
      "metadata": {
        "id": "nNMeurEFdO_q"
      },
      "source": [
        "#problem 5\n"
      ]
    },
    {
      "cell_type": "markdown",
      "metadata": {
        "id": "rhnZk2YMdR99"
      },
      "source": [
        "Write a function called dict_invert() that takes in a directory with immutable values and returns the inverse of the dictionary. The inverse of a dictionary *d* is another dictionary whose keys are unique to dictionary values in *d*. The value for a key in the inverse dictionary is a **sorted** list of all keys in *d* that have the same value in *d*. "
      ]
    },
    {
      "cell_type": "markdown",
      "metadata": {
        "id": "VQx4Z-hleWTl"
      },
      "source": [
        "Here are some examples:\n",
        "\n",
        "*   if d = {1:10, 2:20, 3:30} then dict_invert(d) returns {10: [1], 20: [2], 30: [3]}\n",
        "*   if d = {1:10, 2:20, 3:30, 4:30} then dict_invert(d) returns {10: [1], 20: [2], 30: [3, 4]}\n",
        "\n",
        "*   if d = {4: True, 2: True, 0: True} then dict_invert(d) returns {True: [0, 2, 4]}\n",
        "\n",
        "\n",
        "\n",
        "\n"
      ]
    },
    {
      "cell_type": "code",
      "metadata": {
        "id": "lKNmJQvNqxIk"
      },
      "source": [
        "d = {4: True, 2: True, 0: True}\n",
        "    #diction = { key:value, key:value, etc. }"
      ],
      "execution_count": null,
      "outputs": []
    },
    {
      "cell_type": "code",
      "metadata": {
        "id": "gDIvRF5osoRb"
      },
      "source": [
        "d = {1:10, 2:20, 3:30, 4:30}"
      ],
      "execution_count": null,
      "outputs": []
    },
    {
      "cell_type": "code",
      "metadata": {
        "id": "wu7XS1igd1p9"
      },
      "source": [
        "def dict_invert(d):\n",
        "  '''\n",
        "  d: a dictionary\n",
        "  Returns an inverted dictionary acording to the instructions above.\n",
        "  '''\n",
        "print(\"initial dictionary: \", d) #initial dictionary\n",
        "\n",
        "inverted_dict = dict()\n",
        "\n",
        "for key, values in d.items():\n",
        "  inverted_dict.setdefault(values, list()).append(key)\n",
        "\n",
        "print(\"inverted dictionary is: \", inverted_dict)  "
      ],
      "execution_count": null,
      "outputs": []
    },
    {
      "cell_type": "markdown",
      "metadata": {
        "id": "rfmY-qSleF7I"
      },
      "source": [
        "Paste your entire function, including the deinition, in the box below. Do not leave any debugging print statement."
      ]
    },
    {
      "cell_type": "code",
      "metadata": {
        "id": "D1_2VL-IeNFL"
      },
      "source": [
        "def dict_invert(d):\n",
        "  '''\n",
        "  d: a dictionary\n",
        "  Returns an inverted dictionary\n",
        "  '''\n",
        "inverted_dict = dict()\n",
        "\n",
        "for key, values in d.items():\n",
        "  inverted_dict.setdefault(values, list()).append(key)\n",
        "\n",
        "inverted_dict"
      ],
      "execution_count": null,
      "outputs": []
    },
    {
      "cell_type": "markdown",
      "metadata": {
        "id": "WT7e4p3rtbkm"
      },
      "source": [
        "#problem 6"
      ]
    },
    {
      "cell_type": "markdown",
      "metadata": {
        "id": "OisnK6ADtdMW"
      },
      "source": [
        "Implement a function that meets the specifications below"
      ]
    },
    {
      "cell_type": "code",
      "metadata": {
        "id": "K410W9iwvNEH"
      },
      "source": [
        "t = ((5, (1,2), [[1], [9]]))\n"
      ],
      "execution_count": null,
      "outputs": []
    },
    {
      "cell_type": "code",
      "metadata": {
        "id": "me65LoXitiXS"
      },
      "source": [
        "def max_value(t):\n",
        "  '''\n",
        "  t: tuple or list\n",
        "  Each element of t is either an int, a tuple, or a list\n",
        "  No tuple or list is empty\n",
        "  Returns the maximum int in t or (recursively) in an element of t\n",
        "  '''\n",
        "  intValues = [] #empty list to hold all of the int values of t\n",
        "\n",
        "  def recurssiveIteration(x):\n",
        "    for item in x:\n",
        "      if type(item) == int: #want the smallest incriment to be an int\n",
        "        intValues.append(item) #base case / terminating case\n",
        "        #print(intValues)\n",
        "      else: #we've encountered another iterable object (tuple or a list)\n",
        "        recurssiveIteration(item)\n",
        "  \n",
        "  recurssiveIteration(t)\n",
        "\n",
        "  return max(intValues)\n",
        "#python indentation. below here is treated as a new coded block and not part of the max_value definition.\n",
        "print(max_value(t))"
      ],
      "execution_count": null,
      "outputs": []
    },
    {
      "cell_type": "markdown",
      "metadata": {
        "id": "YRnbgYg2t1Yh"
      },
      "source": [
        "For example:\n",
        "\n",
        "*   max_val((5, (1,2), [[1],[2]])) returns 5\n",
        "*   max_val((5, (1,2), [[1],[9]])) returns 9\n",
        "\n",
        "Paste your entire function, including the definition, in the box below. Do not leave any debugging print statements.\n",
        "\n"
      ]
    },
    {
      "cell_type": "code",
      "metadata": {
        "id": "dHmeWYpUuVnL"
      },
      "source": [
        "def max_value(t):\n",
        "  '''\n",
        "  t: tuple or list\n",
        "  Each element of t is either an int, a tuple, or a list\n",
        "  No tuple or list is empty\n",
        "  Returns the maximum int in t or (recursively) in an element of t\n",
        "  '''\n",
        "  intValues = [] #empty list to hold all of the int values of t\n",
        "\n",
        "  def recurssiveIteration(x):\n",
        "    for item in x:\n",
        "      if type(item) == int: #want the smallest incriment to be an int\n",
        "        intValues.append(item) #base case / terminating case\n",
        "      else: #we've encountered another iterable object (tuple or a list)\n",
        "        recurssiveIteration(item)\n",
        "  \n",
        "  recurssiveIteration(t)\n",
        "\n",
        "  return max(intValues)\n",
        "#python indentation. below here is treated as a new coded block and not part of the max_value definition.\n",
        "print(max_value(t))"
      ],
      "execution_count": null,
      "outputs": []
    },
    {
      "cell_type": "markdown",
      "metadata": {
        "id": "cUlMxcTr3rIb"
      },
      "source": [
        "#problem 7"
      ]
    },
    {
      "cell_type": "markdown",
      "metadata": {
        "id": "kJClyKIa3su6"
      },
      "source": [
        "Write a python function called satisfies() that has the specification below."
      ]
    },
    {
      "cell_type": "code",
      "metadata": {
        "id": "xuLy-d5P3zFM"
      },
      "source": [
        "def satisfiesF(L):\n",
        "  '''\n",
        "  L is a list of strings.\n",
        "  Assume function f is provided and it maps a string to a boolean.\n",
        "  Mutate L such that it contains all of the strings, s, originally in L such that f(s)\n",
        "  returns FALSE and no other elements remaining in L should be in the same order.\n",
        "  '''\n",
        "  for i in L:\n",
        "    if f(i) == True:\n",
        "      L.remove(i)\n",
        "  return (L)    "
      ],
      "execution_count": null,
      "outputs": []
    },
    {
      "cell_type": "markdown",
      "metadata": {
        "id": "4LacQYES4Pae"
      },
      "source": [
        "The function f, run_satisfies, and input L are defined as:"
      ]
    },
    {
      "cell_type": "code",
      "metadata": {
        "id": "V0QmJF5-4UKF"
      },
      "source": [
        "def f(s):\n",
        "  return 'a' in s"
      ],
      "execution_count": null,
      "outputs": []
    },
    {
      "cell_type": "code",
      "metadata": {
        "id": "bd6Ijoyf4YuH"
      },
      "source": [
        "def run_satisfiesF(L, satisfiesF):\n",
        "  print(satisfiesF(L))"
      ],
      "execution_count": null,
      "outputs": []
    },
    {
      "cell_type": "code",
      "metadata": {
        "id": "51oz5GBC4itz"
      },
      "source": [
        "L = ['a', 'b', 'c']"
      ],
      "execution_count": null,
      "outputs": []
    },
    {
      "cell_type": "markdown",
      "metadata": {
        "id": "TvfPjfZu4vc3"
      },
      "source": [
        "Your running results should look like:\n",
        "\n",
        "run_satisfiesF(L, satisfiesF)\n",
        "\n",
        "['b', 'c']"
      ]
    },
    {
      "cell_type": "code",
      "metadata": {
        "colab": {
          "base_uri": "https://localhost:8080/"
        },
        "id": "mV7u_xSjo0O3",
        "outputId": "dda0b968-1c2e-40f0-f4cd-79b4916ad146"
      },
      "source": [
        "run_satisfiesF(L, satisfiesF)"
      ],
      "execution_count": null,
      "outputs": [
        {
          "output_type": "stream",
          "text": [
            "['b', 'c']\n"
          ],
          "name": "stdout"
        }
      ]
    },
    {
      "cell_type": "markdown",
      "metadata": {
        "id": "7Y9W083YQXRy"
      },
      "source": [
        "#Midterm MC"
      ]
    },
    {
      "cell_type": "code",
      "metadata": {
        "id": "8nsbkc30QZPV"
      },
      "source": [
        "L = [1,2,3]\n",
        "d = {'a':'b'}\n",
        "\n",
        "def f(x):\n",
        "  return 3"
      ],
      "execution_count": null,
      "outputs": []
    },
    {
      "cell_type": "code",
      "metadata": {
        "colab": {
          "base_uri": "https://localhost:8080/",
          "height": 164
        },
        "id": "zBYaxY2cQmMv",
        "outputId": "42a87e0b-af4b-4a94-fabf-3564062ee860"
      },
      "source": [
        "print(L[3])"
      ],
      "execution_count": null,
      "outputs": [
        {
          "output_type": "error",
          "ename": "IndexError",
          "evalue": "ignored",
          "traceback": [
            "\u001b[0;31m---------------------------------------------------------------------------\u001b[0m",
            "\u001b[0;31mIndexError\u001b[0m                                Traceback (most recent call last)",
            "\u001b[0;32m<ipython-input-5-4d6e94a9c06a>\u001b[0m in \u001b[0;36m<module>\u001b[0;34m()\u001b[0m\n\u001b[0;32m----> 1\u001b[0;31m \u001b[0mprint\u001b[0m\u001b[0;34m(\u001b[0m\u001b[0mL\u001b[0m\u001b[0;34m[\u001b[0m\u001b[0;36m3\u001b[0m\u001b[0;34m]\u001b[0m\u001b[0;34m)\u001b[0m\u001b[0;34m\u001b[0m\u001b[0;34m\u001b[0m\u001b[0m\n\u001b[0m",
            "\u001b[0;31mIndexError\u001b[0m: list index out of range"
          ]
        }
      ]
    }
  ]
}