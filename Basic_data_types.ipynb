{
  "nbformat": 4,
  "nbformat_minor": 0,
  "metadata": {
    "kernelspec": {
      "display_name": "Python 3",
      "language": "python",
      "name": "python3"
    },
    "language_info": {
      "codemirror_mode": {
        "name": "ipython",
        "version": 3
      },
      "file_extension": ".py",
      "mimetype": "text/x-python",
      "name": "python",
      "nbconvert_exporter": "python",
      "pygments_lexer": "ipython3",
      "version": "3.7.3"
    },
    "colab": {
      "name": "Basic_data_types.ipynb",
      "provenance": [],
      "include_colab_link": true
    }
  },
  "cells": [
    {
      "cell_type": "markdown",
      "metadata": {
        "id": "view-in-github",
        "colab_type": "text"
      },
      "source": [
        "<a href=\"https://colab.research.google.com/github/DLB832/CPSC2100_coding_help/blob/main/Basic_data_types.ipynb\" target=\"_parent\"><img src=\"https://colab.research.google.com/assets/colab-badge.svg\" alt=\"Open In Colab\"/></a>"
      ]
    },
    {
      "cell_type": "markdown",
      "metadata": {
        "id": "n-ooEK5Wi97G"
      },
      "source": [
        "<h1>Operations with numbers</h1>"
      ]
    },
    {
      "cell_type": "code",
      "metadata": {
        "scrolled": true,
        "id": "QnpKNRuHi97P"
      },
      "source": [
        "21 * 21 #Returns int"
      ],
      "execution_count": null,
      "outputs": []
    },
    {
      "cell_type": "code",
      "metadata": {
        "id": "l2z7UAyHi97Q"
      },
      "source": [
        "21 * 21.0 #Returns float"
      ],
      "execution_count": null,
      "outputs": []
    },
    {
      "cell_type": "code",
      "metadata": {
        "id": "QV2SUMkdi97Q"
      },
      "source": [
        "21/3 #Returns float (division always returns float)"
      ],
      "execution_count": null,
      "outputs": []
    },
    {
      "cell_type": "code",
      "metadata": {
        "id": "E1nDUf5-i97R"
      },
      "source": [
        "24//3 #Returns int"
      ],
      "execution_count": null,
      "outputs": []
    },
    {
      "cell_type": "code",
      "metadata": {
        "id": "Zxqau1D2i97R"
      },
      "source": [
        "21//3.0 #Returns float"
      ],
      "execution_count": null,
      "outputs": []
    },
    {
      "cell_type": "code",
      "metadata": {
        "id": "NKLiiW7Vi97R"
      },
      "source": [
        "21//3.221 #Returns float whose value is the lower integer bound of 21//3.2"
      ],
      "execution_count": null,
      "outputs": []
    },
    {
      "cell_type": "code",
      "metadata": {
        "id": "HOaUx0Cgi97S"
      },
      "source": [
        "21%4 #Returns int (the remainder of dividing 21 by 4)"
      ],
      "execution_count": null,
      "outputs": []
    },
    {
      "cell_type": "code",
      "metadata": {
        "id": "tDoVLyJoi97S"
      },
      "source": [
        "21%4.0 #Returns float (21 - 21//4.4)"
      ],
      "execution_count": null,
      "outputs": []
    },
    {
      "cell_type": "code",
      "metadata": {
        "id": "IfJVAYsii97T"
      },
      "source": [
        "21**4 #Returns int"
      ],
      "execution_count": null,
      "outputs": []
    },
    {
      "cell_type": "code",
      "metadata": {
        "id": "5ZwfL_jzi97T"
      },
      "source": [
        "21**4.2 #Returns float"
      ],
      "execution_count": null,
      "outputs": []
    },
    {
      "cell_type": "markdown",
      "metadata": {
        "id": "7Zh9iGl2i97U"
      },
      "source": [
        "<h1>String operations</h1>"
      ]
    },
    {
      "cell_type": "markdown",
      "metadata": {
        "id": "gpj3Btcji97U"
      },
      "source": [
        "<h3>Indexing</h3>"
      ]
    },
    {
      "cell_type": "code",
      "metadata": {
        "id": "Z87_o745i97U"
      },
      "source": [
        "# .  012345\n",
        "x = \"Always take a banana to a party!\""
      ],
      "execution_count": null,
      "outputs": []
    },
    {
      "cell_type": "code",
      "metadata": {
        "id": "Cfkk5ALJi97U"
      },
      "source": [
        "x[3] #Returns the 4th (i+1)th character in x"
      ],
      "execution_count": null,
      "outputs": []
    },
    {
      "cell_type": "code",
      "metadata": {
        "id": "ShT_YOnFi97V"
      },
      "source": [
        "x[-1] #Returns the last character in x"
      ],
      "execution_count": null,
      "outputs": []
    },
    {
      "cell_type": "code",
      "metadata": {
        "id": "L2MoZ-Kni97V"
      },
      "source": [
        "x[-2] #Returns the second last character in x"
      ],
      "execution_count": null,
      "outputs": []
    },
    {
      "cell_type": "code",
      "metadata": {
        "id": "zDEa0Tg1i97V"
      },
      "source": [
        "x[32] #IndexError. Out of range"
      ],
      "execution_count": null,
      "outputs": []
    },
    {
      "cell_type": "code",
      "metadata": {
        "id": "cciHINrXi97V"
      },
      "source": [
        "len(x) #Returns the length of the string (an integer)"
      ],
      "execution_count": null,
      "outputs": []
    },
    {
      "cell_type": "markdown",
      "metadata": {
        "id": "cbBv9EL0i97V"
      },
      "source": [
        "<h3>Slicing</h3>"
      ]
    },
    {
      "cell_type": "code",
      "metadata": {
        "id": "89YZ6fhVi97W"
      },
      "source": [
        "x[7:11] #Returns the 8th to the 11th character (i.e., 11-7 characters)"
      ],
      "execution_count": null,
      "outputs": []
    },
    {
      "cell_type": "code",
      "metadata": {
        "id": "97vk5nDni97W"
      },
      "source": [
        "x[7:] #Returns every character starting with location 7 (the 8th character) to the end of the string\n",
        "#Omitting the endpoint defaults to the \"rest of the string\""
      ],
      "execution_count": null,
      "outputs": []
    },
    {
      "cell_type": "code",
      "metadata": {
        "id": "bt1NUcTbi97W"
      },
      "source": [
        "x[0::2] #returns a substring starting from 0, going to the end (omitted), 2 characters at a time"
      ],
      "execution_count": null,
      "outputs": []
    },
    {
      "cell_type": "code",
      "metadata": {
        "id": "bC44MLFUi97W"
      },
      "source": [
        "x[::-1] #Start from whatever makes sense as the start, go to whatever makes sense as the end, go backward\n",
        "# one character at a time\n",
        "#Here it makes sense to start at the end and go all the way to the beginning (because of the -1)\n",
        "#Returns a reversed string"
      ],
      "execution_count": null,
      "outputs": []
    },
    {
      "cell_type": "markdown",
      "metadata": {
        "id": "xsN9gNBFi97X"
      },
      "source": [
        "<h3>Searching</h3>"
      ]
    },
    {
      "cell_type": "code",
      "metadata": {
        "id": "GSMRIgj1i97X"
      },
      "source": [
        "x.find('to') #Returns the location of the first 'to' found"
      ],
      "execution_count": null,
      "outputs": []
    },
    {
      "cell_type": "code",
      "metadata": {
        "id": "ZsjmhsGii97X"
      },
      "source": [
        "x.find('hello') #Returns -1. I.e., the substring was not found in x"
      ],
      "execution_count": null,
      "outputs": []
    },
    {
      "cell_type": "markdown",
      "metadata": {
        "id": "ZdVucNO5i97X"
      },
      "source": [
        "<h3>Immutability</h3>"
      ]
    },
    {
      "cell_type": "code",
      "metadata": {
        "id": "oilI75Lhi97Y"
      },
      "source": [
        "x[3] = 'b' #TypeError. Can't change a string"
      ],
      "execution_count": null,
      "outputs": []
    },
    {
      "cell_type": "code",
      "metadata": {
        "id": "D_Wrbhkoi97Y"
      },
      "source": [
        "x[0:2] + 'A' + x[4:] #one way to modifiy a string"
      ],
      "execution_count": null,
      "outputs": []
    },
    {
      "cell_type": "code",
      "metadata": {
        "id": "vyDYa2MEi97Y"
      },
      "source": [
        "new_X = x[0:2] + 'b' + x[4:]\n",
        "print(new_X)"
      ],
      "execution_count": null,
      "outputs": []
    },
    {
      "cell_type": "code",
      "metadata": {
        "id": "9QMFQf-Ki97Y"
      },
      "source": [
        "x = \"Hello\"\n",
        "y = x\n",
        "print(id(x),id(y))\n",
        "#x and y are the same string"
      ],
      "execution_count": null,
      "outputs": []
    },
    {
      "cell_type": "code",
      "metadata": {
        "id": "_QzoKLALi97Z"
      },
      "source": [
        "x=\"Always take a banana to a party!\"\n",
        "print(id(x),id(y))\n",
        "#x now points to a different string. y is still the same old string at the same old location!"
      ],
      "execution_count": null,
      "outputs": []
    },
    {
      "cell_type": "markdown",
      "metadata": {
        "id": "3Cd3AKPoi97Z"
      },
      "source": [
        "<h3>Concatenation</h3>"
      ]
    },
    {
      "cell_type": "code",
      "metadata": {
        "id": "IxA8w6Kqi97Z"
      },
      "source": [
        "#The plus operator concatenates two strings to give rise to a third string\n",
        "x=\"Hello\"\n",
        "y=\"Dolly\"\n",
        "z=x+y\n",
        "print(x,y,z,id(x),id(y),id(z)) #x, y and z are all different strings"
      ],
      "execution_count": null,
      "outputs": []
    },
    {
      "cell_type": "code",
      "metadata": {
        "id": "L--J5ytFi97Z"
      },
      "source": [
        "#Since python doesn't understand that we need a space between Hello and Dolly, we need to add it ourselves\n",
        "z = x + \" \" + y\n",
        "print(z)"
      ],
      "execution_count": null,
      "outputs": []
    },
    {
      "cell_type": "markdown",
      "metadata": {
        "id": "pYQd69jgi97a"
      },
      "source": [
        "<h1>booleans</h1>"
      ]
    },
    {
      "cell_type": "code",
      "metadata": {
        "jupyter": {
          "outputs_hidden": true
        },
        "id": "eisKt8NDi97a"
      },
      "source": [
        "x=4\n",
        "y=2\n",
        "z=(x==y) #False because x and y are not the same\n",
        "z=(x==x) #True because x and y are the same\n"
      ],
      "execution_count": null,
      "outputs": []
    },
    {
      "cell_type": "code",
      "metadata": {
        "id": "SDX82pCLi97a"
      },
      "source": [
        "#Comparison is by value\n",
        "x = \"Hello\"\n",
        "y = \"Hello\"\n",
        "print(id(x),id(y)) #Different strings"
      ],
      "execution_count": null,
      "outputs": []
    },
    {
      "cell_type": "code",
      "metadata": {
        "id": "p3t80zkbi97a"
      },
      "source": [
        "print(x == y) #But they have the same value"
      ],
      "execution_count": null,
      "outputs": []
    },
    {
      "cell_type": "code",
      "metadata": {
        "id": "4yOtfxbDi97b"
      },
      "source": [
        "x=8\n",
        "print(x,bool(x)) #Non-zero numbers, strings with values are always True"
      ],
      "execution_count": null,
      "outputs": []
    },
    {
      "cell_type": "code",
      "metadata": {
        "id": "RR9hN2X7i97b"
      },
      "source": [
        "x='' #Empty string\n",
        "print(x,bool(x)) #Empty strings, 0 numbers are always False"
      ],
      "execution_count": null,
      "outputs": []
    },
    {
      "cell_type": "markdown",
      "metadata": {
        "id": "-e7fW3I2i97b"
      },
      "source": [
        "<h3>Logical operators</h3>"
      ]
    },
    {
      "cell_type": "code",
      "metadata": {
        "id": "GHAow-tci97b"
      },
      "source": [
        "x=4\n",
        "y=5\n",
        "print(x>2 and y>2) #True because both x and y are greater than 2"
      ],
      "execution_count": null,
      "outputs": []
    },
    {
      "cell_type": "code",
      "metadata": {
        "id": "dTPdYjtmi97c"
      },
      "source": [
        "print(x>2 and y<2) #False because one is False"
      ],
      "execution_count": null,
      "outputs": []
    },
    {
      "cell_type": "code",
      "metadata": {
        "id": "0t5W4d22i97c"
      },
      "source": [
        "print(x<2 and y<2) #False because both are False"
      ],
      "execution_count": null,
      "outputs": []
    },
    {
      "cell_type": "code",
      "metadata": {
        "id": "jHm7pXCYi97c"
      },
      "source": [
        "print(x>2 or y>2) #True because at least one is True"
      ],
      "execution_count": null,
      "outputs": []
    },
    {
      "cell_type": "code",
      "metadata": {
        "id": "yYbmPybei97c"
      },
      "source": [
        "print(x<2 or y>2) #True because at least one is True"
      ],
      "execution_count": null,
      "outputs": []
    },
    {
      "cell_type": "code",
      "metadata": {
        "id": "DojZimEdi97c"
      },
      "source": [
        "print(x<2 or y<2) #False because both are False"
      ],
      "execution_count": null,
      "outputs": []
    },
    {
      "cell_type": "code",
      "metadata": {
        "id": "1iSKqgr_i97d"
      },
      "source": [
        "print(not(x>2 or y>2)) #False because x>2 or y>2 is True"
      ],
      "execution_count": null,
      "outputs": []
    },
    {
      "cell_type": "code",
      "metadata": {
        "id": "dPEAuZwJi97d"
      },
      "source": [
        "print(x or y) #4 because x is True (non-zero) so no need to evaluate y. Value of x is returned"
      ],
      "execution_count": null,
      "outputs": []
    },
    {
      "cell_type": "code",
      "metadata": {
        "id": "y6O8Yfrzi97d"
      },
      "source": [
        "print(x and 0+3) #3 because x is non-zero but need to check the second operand as well. That evaluates to 3"
      ],
      "execution_count": null,
      "outputs": []
    },
    {
      "cell_type": "markdown",
      "metadata": {
        "id": "BxIXm_pji97d"
      },
      "source": [
        "<h1>Assignment</h1>"
      ]
    },
    {
      "cell_type": "code",
      "metadata": {
        "id": "noHI1_jui97e"
      },
      "source": [
        "x = p + 10 #NameError! p is not defined"
      ],
      "execution_count": null,
      "outputs": []
    },
    {
      "cell_type": "code",
      "metadata": {
        "jupyter": {
          "outputs_hidden": true
        },
        "id": "cqECyKGBi97e"
      },
      "source": [
        "p = 7\n",
        "x = p + 10 #This works"
      ],
      "execution_count": null,
      "outputs": []
    },
    {
      "cell_type": "code",
      "metadata": {
        "id": "cPcmUG6Vi97e"
      },
      "source": [
        "x,y = 3,4\n",
        "print(x,y) #x is 3 and y is 4"
      ],
      "execution_count": null,
      "outputs": []
    },
    {
      "cell_type": "code",
      "metadata": {
        "id": "gYLoUX88i97e"
      },
      "source": [
        "x = 7\n",
        "x += 4 \n",
        "print(x) #x is 11 because x += 4 is equivalent to x = x+4"
      ],
      "execution_count": null,
      "outputs": []
    },
    {
      "cell_type": "code",
      "metadata": {
        "jupyter": {
          "outputs_hidden": true
        },
        "id": "G4v0dic0i97e"
      },
      "source": [
        ""
      ],
      "execution_count": null,
      "outputs": []
    }
  ]
}