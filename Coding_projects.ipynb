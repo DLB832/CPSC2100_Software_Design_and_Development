{
  "nbformat": 4,
  "nbformat_minor": 0,
  "metadata": {
    "colab": {
      "name": "Coding_projects.ipynb",
      "provenance": [],
      "collapsed_sections": [],
      "toc_visible": true,
      "authorship_tag": "ABX9TyNXkSrP+LQB3yLiNWBtGrYU",
      "include_colab_link": true
    },
    "kernelspec": {
      "name": "python3",
      "display_name": "Python 3"
    }
  },
  "cells": [
    {
      "cell_type": "markdown",
      "metadata": {
        "id": "view-in-github",
        "colab_type": "text"
      },
      "source": [
        "<a href=\"https://colab.research.google.com/github/DLB832/CPSC2100_Software_Design_and_Development/blob/main/Coding_projects.ipynb\" target=\"_parent\"><img src=\"https://colab.research.google.com/assets/colab-badge.svg\" alt=\"Open In Colab\"/></a>"
      ]
    },
    {
      "cell_type": "markdown",
      "metadata": {
        "id": "PRbjElLj5a37"
      },
      "source": [
        "#Coding Problem 1.1"
      ]
    },
    {
      "cell_type": "markdown",
      "metadata": {
        "id": "s4Hohc0a5dMo"
      },
      "source": [
        "Problem 1.1: \n",
        "\n",
        "Assume s is a string of lower case characters.\n",
        "\n",
        "Write a program that counts up the number of vowels contained in the string s. Valid vowels are: 'a', 'e', 'i', 'o', and 'u'.  Please use s = 'azcbobobegghakl'  for testing. Your program should print:\n",
        "\n"
      ]
    },
    {
      "cell_type": "code",
      "metadata": {
        "colab": {
          "base_uri": "https://localhost:8080/"
        },
        "id": "e1fdAN5A7rt8",
        "outputId": "3ef582e7-79fa-438c-964c-d2a36ccf5771"
      },
      "source": [
        "s = \"azcbobobegghakl\" #assigns variable \"s\" as a string with the appropriate list of characters\n",
        "# there are 5 vowels in this string\n",
        "\n",
        "vowelCount = 0\n",
        "\n",
        "for char in s:\n",
        "  if char == \"a\" or char == \"e\" or char == \"i\" or char == \"o\" or char == \"u\":\n",
        "    vowelCount += 1 #if the vowels are present, incriment vowel count.\n",
        "  else:\n",
        "    pass #otherwise pass through  \n",
        "\n",
        "print(\"The number of vowels is : \", vowelCount)"
      ],
      "execution_count": null,
      "outputs": [
        {
          "output_type": "stream",
          "text": [
            "The number of vowels is :  5\n"
          ],
          "name": "stdout"
        }
      ]
    },
    {
      "cell_type": "markdown",
      "metadata": {
        "id": "RJIGt1QSAQ-B"
      },
      "source": [
        "#Coding Problem 1.2"
      ]
    },
    {
      "cell_type": "markdown",
      "metadata": {
        "id": "gNGRHBhqAVDs"
      },
      "source": [
        "Problem 1.2 \n",
        "\n",
        "Assume s is a string of lower case characters.\n",
        "\n",
        "Write a program that prints the number of times the string 'bob' occurs in s. Please use s = 'azcbobobegghakl' testing.  Your program should print"
      ]
    },
    {
      "cell_type": "code",
      "metadata": {
        "colab": {
          "base_uri": "https://localhost:8080/"
        },
        "id": "JT55Go3AA6sB",
        "outputId": "c69be805-c612-49b0-ad3b-4a8ae5deb450"
      },
      "source": [
        "s = \"azcbobobegghakl\"\n",
        "#'bob' is present twice\n",
        "\n",
        "pattern = \"bob\" #the desired pattern of characters being searched for\n",
        "patternCount = 0 #the number of times the pattern of characters is present\n",
        "\n",
        "#need a substring of s for comparing against the pattern\n",
        "\n",
        "i = 0 #the staring parameterss for the substrings slice off of the regular string.\n",
        "j = len(pattern) #since pattern length is 3, then j is 3.\n",
        "\n",
        "while j <= len(s):\n",
        "  sub = s[i:j] #have to create a new substring during each iteration of the while loop\n",
        "  if sub == pattern:\n",
        "    patternCount += 1\n",
        "    i += 1\n",
        "    j += 1\n",
        "  else:\n",
        "    i += 1\n",
        "    j += 1\n",
        "\n",
        "print(\"The pattern:\", pattern, \"appeared:\", patternCount, \"times.\")  \n",
        "\n"
      ],
      "execution_count": null,
      "outputs": [
        {
          "output_type": "stream",
          "text": [
            "The pattern: bob appeared: 2 times.\n"
          ],
          "name": "stdout"
        }
      ]
    },
    {
      "cell_type": "markdown",
      "metadata": {
        "id": "4kWfWjie4S92"
      },
      "source": [
        "#Coding Problem 1.3"
      ]
    },
    {
      "cell_type": "markdown",
      "metadata": {
        "id": "wXvLHnhb4r5c"
      },
      "source": [
        "Assume s is a string of lower case characters.\n",
        "\n",
        "Write a program that prints the longest substring of s in which the letters occur in alphabetical order. Please use s = 'azcbobobegghakl' to test your codes. Your program should print\n",
        "\n",
        "Longest substring in alphabetical order is: beggh\n",
        "In the case of ties, print the first substring. For example, if s = 'abcbcd', then your program should print\n",
        "\n",
        "Longest substring in alphabetical order is: abc\n"
      ]
    },
    {
      "cell_type": "code",
      "metadata": {
        "colab": {
          "base_uri": "https://localhost:8080/"
        },
        "id": "9FfvO_dp5Pnw",
        "outputId": "744ec26b-dc49-44b0-fa2c-550d233d6275"
      },
      "source": [
        "s = \"azcbobobegghakl\" #string to check for longest alphabetical substring\n",
        "longestAlphabetical = \"\"\n",
        "expectedLongest = \"beggh\"\n",
        "currentSub = \"\"\n",
        "\n",
        "for i in range(len(s)): #the first character\n",
        "  for j in range(i,len(s)-1): #every character after that one\n",
        "    currentSub = s[i] #the first character in a substring\n",
        "    if s[j] <= s[j+1]: #try to continue the substring\n",
        "      currentSub = s[i:(j+2)]\n",
        "      if len(longestAlphabetical) <= len(currentSub):\n",
        "        longestAlphabetical = currentSub #update the longest substring if the current is longer\n",
        "    else:\n",
        "      break  \n",
        "\n",
        "print(\"The longest alphabetical substring is: \", longestAlphabetical)\n",
        "print(\"The expected outcome is: \", expectedLongest)\n"
      ],
      "execution_count": null,
      "outputs": [
        {
          "output_type": "stream",
          "text": [
            "The longest alphabetical substring is:  beggh\n",
            "The expected outcome is:  beggh\n"
          ],
          "name": "stdout"
        }
      ]
    },
    {
      "cell_type": "markdown",
      "metadata": {
        "id": "_V9x9bL009VU"
      },
      "source": [
        "#Coding Problem 2.1"
      ]
    },
    {
      "cell_type": "code",
      "metadata": {
        "id": "eJcPdZRB5Ipx"
      },
      "source": [
        "balance = 5000\n",
        "annualInterestRate = 0.18"
      ],
      "execution_count": null,
      "outputs": []
    },
    {
      "cell_type": "markdown",
      "metadata": {
        "id": "8EFI36sY5PaO"
      },
      "source": [
        "Write a program to calculate the credit card balance after one year if a person only pays the minimum monthly payment required by the credit card company each month.\n",
        "\n",
        "The following variables contain values as described below:\n",
        "\n",
        "balance - the outstanding balance on the credit card\n",
        "\n",
        "annualInterestRate - annual interest rate as a decimal\n",
        "\n",
        "monthlyPaymentRate - minimum monthly payment rate as a decimal\n",
        "\n",
        "For each month, calculate statements on the monthly payment and remaining balance. At the end of 12 months, print out the remaining balance. Be sure to print out no more than two decimal digits of accuracy.\n",
        "\n"
      ]
    },
    {
      "cell_type": "code",
      "metadata": {
        "colab": {
          "base_uri": "https://localhost:8080/"
        },
        "id": "055pRSEE5XL4",
        "outputId": "cf0d03e9-2fbe-4c38-96a1-4181fa43f590"
      },
      "source": [
        "balance = 5000\n",
        "annualInterestRate = 0.18\n",
        "monthlyInterestRate = 0.02 #(annualInterestRate) / 12.0\n",
        "\n",
        "for month in range(12): #exclusively from 1-12, so it runs 0-11. essentially 12 times\n",
        "  monthlyMinimumPayment = monthlyInterestRate * balance\n",
        "  unpaidBalance = balance - monthlyMinimumPayment\n",
        "  balance = unpaidBalance + (monthlyInterestRate * unpaidBalance)\n",
        "  #month += 1 #for debugging\n",
        "  #print(\"remaining balance after month: \", month, \"is: \", balance) #for debugging\n",
        "  #print(\"month #: \", month, \"minimum payment: \", monthlyMinimumPayment) #for debugging\n",
        "\n",
        "print(\"Remaining balance: \", round(balance,2))\n"
      ],
      "execution_count": null,
      "outputs": [
        {
          "output_type": "stream",
          "text": [
            "Remaining balance:  4976.05\n"
          ],
          "name": "stdout"
        }
      ]
    },
    {
      "cell_type": "markdown",
      "metadata": {
        "id": "43uPuHsp8oyM"
      },
      "source": [
        "Month 0:\n",
        "  balance = 5000\n",
        "  minimum payment = 100 [balance * 0.02]\n",
        "  new balance = 4900 + (monthly interest * new balance)\n",
        "    "
      ]
    },
    {
      "cell_type": "code",
      "metadata": {
        "id": "Uv8nemYK9RJ2"
      },
      "source": [
        "4900 + (4900*0.02)"
      ],
      "execution_count": null,
      "outputs": []
    },
    {
      "cell_type": "markdown",
      "metadata": {
        "id": "_cW-AywS9tHe"
      },
      "source": [
        "#Coding Problem 2.2"
      ]
    },
    {
      "cell_type": "markdown",
      "metadata": {
        "id": "YpjNKRJD9wAX"
      },
      "source": [
        "Now write a program that calculates the minimum fixed monthly payment needed in order pay off a credit card balance within 12 months. By a fixed monthly payment, we mean a single number which does not change each month, but instead is a constant amount that will be paid each month.\n",
        "\n",
        "In this problem, we will not be dealing with a minimum monthly payment rate.\n",
        "\n",
        "The following variables contain values as described below:\n",
        "\n",
        "balance - the outstanding balance on the credit card\n",
        "\n",
        "annualInterestRate - annual interest rate as a decimal\n",
        "\n",
        "The program should print out one line: the lowest monthly payment that will pay off all debt in under 1 year, for example:\n",
        "\n",
        "Assume that the interest is compounded monthly according to the balance at the end of the month (after the payment for that month is made). The monthly payment must be a multiple of $10 and is the same for all months. Notice that it is possible for the balance to become negative using this payment scheme, which is okay. A summary of the required math is found below:\n",
        "\n"
      ]
    },
    {
      "cell_type": "code",
      "metadata": {
        "id": "x4jX0Mzq9zDX"
      },
      "source": [
        "balance = 5000\n",
        "annualInterestRate = 0.18\n",
        "monthlyInterestRate = annualInterestRate / 12\n",
        "minimumFixedMonthlyPayment = 10 #does not change month to month to pay off all debt.Incriment of 10\n",
        "minimumFound = False\n",
        "\n",
        "while minimumFound == False:\n",
        "  newBalance = balance\n",
        "  for month in range(12):\n",
        "    newBalance -= minimumFixedMonthlyPayment #subtract monthly fixed minimum\n",
        "    newBalance += (newBalance * monthlyInterestRate) #update balance at the end of the month\n",
        "\n",
        "  if newBalance > 0:\n",
        "    minimumFixedMonthlyPayment += 10\n",
        "    newBalance = balance\n",
        "  else:\n",
        "    minimumFound = True\n",
        "    print(\"Minimum monthly fixed payment: \", minimumFixedMonthlyPayment)  "
      ],
      "execution_count": null,
      "outputs": []
    },
    {
      "cell_type": "markdown",
      "metadata": {
        "id": "1_HWkNRs_Xie"
      },
      "source": [
        "month 0: \n",
        "  balace = 5000\n",
        "  minimum fixed = 10\n",
        "  new balance = 4990 * monthly intrest\n",
        "month 1:\n",
        "  balance = 4998\n",
        "  minimum fixed = 10\n",
        "  ......... "
      ]
    },
    {
      "cell_type": "markdown",
      "metadata": {
        "id": "BL64UsQCAkDA"
      },
      "source": [
        "#Coding Problem 2.3"
      ]
    },
    {
      "cell_type": "markdown",
      "metadata": {
        "id": "TC1HGk2SA3kF"
      },
      "source": [
        "After running the above code at miminum fixed payment incriments of 0.01, we get 451.629"
      ]
    },
    {
      "cell_type": "markdown",
      "metadata": {
        "id": "oer2W-_QAnY3"
      },
      "source": [
        "You'll notice that in Problem 2, your monthly payment had to be a multiple of $10. Why did we make it that way? You can try running your code locally so that the payment can be any dollar and cent amount (in other words, the monthly payment is a multiple of $0.01). Does your code still work? It should, but you may notice that your code runs more slowly, especially in cases with very large balances and interest rates. (Note: when your code is running on our servers, there are limits on the amount of computing time each submission is allowed, so your observations from running this experiment on the grading system might be limited to an error message complaining about too much time taken.)\n",
        "\n",
        "Well then, how can we calculate a more accurate fixed monthly payment than we did in Problem 2 without running into the problem of slow code? We can make this program run faster using a technique introduced in lecture - bisection search!\n",
        "\n",
        "To recap the problem: we are searching for the smallest monthly payment such that we can pay off the entire balance within a year. What is a reasonable lower bound for this payment value? $0 is the obvious anwer, but you can do better than that. If there was no interest, the debt can be paid off by monthly payments of one-twelfth of the original balance, so we must pay at least this much every month. One-twelfth of the original balance is a good lower bound.\n",
        "\n",
        "What is a good upper bound? Imagine that instead of paying monthly, we paid off the entire balance at the end of the year. What we ultimately pay must be greater than what we would've paid in monthly installments, because the interest was compounded on the balance we didn't pay off each month. So a good upper bound for the monthly payment would be one-twelfth of the balance, after having its interest compounded monthly for an entire year.\n",
        "\n",
        "In short:"
      ]
    },
    {
      "cell_type": "code",
      "metadata": {
        "colab": {
          "base_uri": "https://localhost:8080/"
        },
        "id": "7axI2vyVBMsm",
        "outputId": "61499ab6-3a73-4bcc-f91f-a999843546de"
      },
      "source": [
        "balance = 5000\n",
        "annualInterestRate = 0.18\n",
        "monthlyInterestRate = annualInterestRate / 12\n",
        "monthlyPaymentLowerBound = balance / 12\n",
        "monthlyPaymentUpperBound = (balance * (1 + monthlyInterestRate)**12)/12\n",
        "precision = 0.01 #controls the precision of the search\n",
        "\n",
        "smallestFound = False\n",
        "totalCount = 0 #to prevent infinite loops\n",
        "\n",
        "while smallestFound == False: #until smallest value is found, run the loop\n",
        "  totalCount += 1\n",
        "  if totalCount >= 100: #if totalCount runs too much end loop for no infinite\n",
        "    break\n",
        "\n",
        "  newBalance = balance\n",
        "  smallestMonthlyPayment = (monthlyPaymentLowerBound + monthlyPaymentUpperBound) / 2\n",
        "\n",
        "  #estimate the balance after 12 months\n",
        "  for month in range(12):\n",
        "    newBalance -= smallestMonthlyPayment #subtracting the payment\n",
        "    newBalance += (newBalance * monthlyInterestRate) #update the current balancce after payment\n",
        "    month +=1\n",
        "    #print(\"month: \", month)\n",
        "    #print(\"lower bound: \", monthlyPaymentLowerBound)\n",
        "    #print(\"upper bound: \", monthlyPaymentUpperBound)\n",
        "    #print(\"current smallest payment: \", smallestMonthlyPayment)\n",
        "    #print(\"current balance: \", newBalance)\n",
        "    #print(\"\")\n",
        "\n",
        "  if 0 < abs(newBalance) and abs(newBalance) <= 0.01:\n",
        "    smallestFound = True\n",
        "    print(\"Smallest monthly payment: \", round(smallestMonthlyPayment,2))\n",
        "  elif newBalance < -0.01: #if new balance is negative, smallest payment is too large.\n",
        "    monthlyPaymentUpperBound = smallestMonthlyPayment\n",
        "    #so we shift our bisection search and the previous smallest payment becomes our new largest payment. \n",
        "    #new guess the middle of the previous smallest and the lower bound.\n",
        "  elif newBalance > 0.01: #if balance is positive, smallest payment is too low.\n",
        "    monthlyPaymentLowerBound = smallestMonthlyPayment\n",
        "    #so we shift bisection again and the previous smallest monthly payment becomes our new lower bound\n",
        "    #new guess is between middle of previous smallest and the upper bound."
      ],
      "execution_count": null,
      "outputs": [
        {
          "output_type": "stream",
          "text": [
            "Smallest monthly payment:  451.63\n"
          ],
          "name": "stdout"
        }
      ]
    },
    {
      "cell_type": "markdown",
      "metadata": {
        "id": "105nFBc7CrBf"
      },
      "source": [
        "lower             new search           smallest monthly payment guess"
      ]
    },
    {
      "cell_type": "markdown",
      "metadata": {
        "id": "CUfyjTReFSd3"
      },
      "source": [
        "#Coding Problem 2.4"
      ]
    },
    {
      "cell_type": "markdown",
      "metadata": {
        "id": "3McfQ7iOFVhc"
      },
      "source": [
        "In Problem 3, we designed a bisection search to find the monthly minimal monthly payment to pay off the debt in 12 months.  Here, please revise your bisection search solution using a recursive function. "
      ]
    },
    {
      "cell_type": "code",
      "metadata": {
        "id": "xlwLmVigH88E"
      },
      "source": [
        "balance = 5000\n",
        "annualInterestRate = 0.18\n",
        "upperBound = balance * (1 + annualInterestRate)\n",
        "lowerBound = balance /12"
      ],
      "execution_count": null,
      "outputs": []
    },
    {
      "cell_type": "code",
      "metadata": {
        "id": "MTJR5wQIHS_r"
      },
      "source": [
        "def recursiveBisectionSmallest(upper, lower, balance):\n",
        "  payment = (lower + upper) / 2\n",
        "  newBalance = balance\n",
        "\n",
        "  for month in range(12):\n",
        "    newBalance -= payment\n",
        "    newBalance += newBalance * (annualInterestRate / 12)\n",
        "    #print(\"low = \", lower, \"upper = \", upper, \"current payment = \", payment) #for debugging\n",
        "\n",
        "  if 0 < newBalance and newBalance <= 0.01:\n",
        "    print(\"The smallest monthly payment is: \", round(payment,2)) #base case. terminating case\n",
        "    return\n",
        "  elif newBalance < 0: #balance is negative after using our payment. payment is too high\n",
        "    recursiveBisectionSmallest(payment, lower, balance) #call function recurssively replacing the upper bound w/ payment\n",
        "  elif newBalance > 0: #balance is positive after payment. Payment is too low\n",
        "    recursiveBisectionSmallest(upper, payment, balance) #call function recursively replacing the lower bound w/ payment\n"
      ],
      "execution_count": null,
      "outputs": []
    },
    {
      "cell_type": "code",
      "metadata": {
        "colab": {
          "base_uri": "https://localhost:8080/"
        },
        "id": "pvWx1GbeJdLI",
        "outputId": "0f9015f9-3bc6-4efa-828c-169745f3dec1"
      },
      "source": [
        "recursiveBisectionSmallest(upperBound, lowerBound, balance)"
      ],
      "execution_count": null,
      "outputs": [
        {
          "output_type": "stream",
          "text": [
            "The smallest monthly payment is:  451.63\n"
          ],
          "name": "stdout"
        }
      ]
    },
    {
      "cell_type": "markdown",
      "metadata": {
        "id": "5KkoCzMu2Avf"
      },
      "source": [
        "#Coding Problem 3"
      ]
    },
    {
      "cell_type": "code",
      "metadata": {
        "id": "5Fp5_yf73A5_"
      },
      "source": [
        "# Hangman game\n",
        "#\n",
        "\n",
        "# -----------------------------------\n",
        "# Helper code\n",
        "# You don't need to understand this helper code,\n",
        "# but you will have to know how to use the functions\n",
        "# (so be sure to read the docstrings!)\n",
        "\n",
        "import random\n",
        "\n",
        "WORDLIST_FILENAME = \"words.txt\"\n",
        "\n",
        "def loadWords():\n",
        "    \"\"\"\n",
        "    Returns a list of valid words. Words are strings of lowercase letters.\n",
        "    \n",
        "    Depending on the size of the word list, this function may\n",
        "    take a while to finish.\n",
        "    \"\"\"\n",
        "    print(\"Loading word list from file...\")\n",
        "    # inFile: file\n",
        "    inFile = open(WORDLIST_FILENAME, 'r')\n",
        "    # line: string\n",
        "    line = inFile.readline()\n",
        "    # wordlist: list of strings\n",
        "    wordlist = line.split()\n",
        "    print(\"  \", len(wordlist), \"words loaded.\")\n",
        "    return wordlist\n",
        "\n",
        "def chooseWord(wordlist):\n",
        "    \"\"\"\n",
        "    wordlist (list): list of words (strings)\n",
        "\n",
        "    Returns a word from wordlist at random\n",
        "    \"\"\"\n",
        "    return random.choice(wordlist)\n",
        "\n",
        "# end of helper code\n",
        "# -----------------------------------\n",
        "\n",
        "# Load the list of words into the variable wordlist\n",
        "# so that it can be accessed from anywhere in the program\n",
        "wordlist = loadWords()\n",
        "\n",
        "def isWordGuessed(secretWord, lettersGuessed):\n",
        "    '''\n",
        "    secretWord: string, the word the user is guessing\n",
        "    lettersGuessed: list, what letters have been guessed so far\n",
        "    returns: boolean, True if all the letters of secretWord are in lettersGuessed;\n",
        "      False otherwise\n",
        "    '''\n",
        "    correctLetterCount = 0\n",
        "\n",
        "    for letter in secretWord: #checks each letter in the secretWord. allows duplicate letters.\n",
        "      if letter in lettersGuessed: #if its been guessed\n",
        "        correctLetterCount += 1 #add 1 to the number of correct letters\n",
        "    \n",
        "    if correctLetterCount == len(secretWord):\n",
        "      print()\n",
        "      print(\"Congratulations! You've won! The secret word was: \", secretWord)\n",
        "      return True\n",
        "    else:\n",
        "      return False\n",
        "\n",
        "\n",
        "\n",
        "\n",
        "def getGuessedWord(secretWord, lettersGuessed):\n",
        "    '''\n",
        "    secretWord: string, the word the user is guessing\n",
        "    lettersGuessed: list, what letters have been guessed so far\n",
        "    returns: string, comprised of letters and underscores that represents\n",
        "      what letters in secretWord have been guessed so far.\n",
        "    '''\n",
        "\n",
        "    for letter in secretWord:\n",
        "      if letter in lettersGuessed:\n",
        "        print(\"\", letter, \"\", end=\"\") #prints the letter\n",
        "      elif letter not in lettersGuessed:\n",
        "        print(\"\", \"__\", \"\", end=\"\") #prints the blank spot\n",
        "\n",
        "\n",
        "\n",
        "def getAvailableLetters(lettersGuessed):\n",
        "    '''\n",
        "    lettersGuessed: list, what letters have been guessed so far\n",
        "    returns: string, comprised of letters that represents what letters have not\n",
        "      yet been guessed.\n",
        "    '''\n",
        "    availableLetters = '' #an empty string\n",
        "    alphabet = ['a', 'b', 'c', 'd', 'e', 'f', 'g', 'h', 'i', 'j', 'k', 'l', 'm',\n",
        "                'n', 'o', 'p', 'q', 'r', 's', 't', 'u', 'v', 'w', 'x', 'y', 'z'] #lists are mutable\n",
        "    for letter in lettersGuessed:\n",
        "      alphabet.remove(letter) #remove the letter from the list\n",
        "\n",
        "    return (availableLetters.join(alphabet)) #join method converts a list to a string  \n",
        "    \n",
        "\n",
        "def hangman(secretWord):\n",
        "    '''\n",
        "    secretWord: string, the secret word to guess.\n",
        "\n",
        "    Starts up an interactive game of Hangman.\n",
        "\n",
        "    * At the start of the game, let the user know how many \n",
        "      letters the secretWord contains.\n",
        "\n",
        "    * Ask the user to supply one guess (i.e. letter) per round.\n",
        "\n",
        "    * The user should receive feedback immediately after each guess \n",
        "      about whether their guess appears in the computers word.\n",
        "\n",
        "    * After each round, you should also display to the user the \n",
        "      partially guessed word so far, as well as letters that the \n",
        "      user has not yet guessed.\n",
        "\n",
        "    Follows the other limitations detailed in the problem write-up.\n",
        "    '''\n",
        "\n",
        "    lettersGuessed = '' #empty string at start for storing letters\n",
        "    mistakesMade = 0\n",
        "    initialAvailableLetters = 'abcdefghijklmnopqrstuvwxyz' #new alphabet every round\n",
        "\n",
        "    print(\"There are \", len(secretWord), \"letters in your word.\")\n",
        "    print(\"Good luck!\")\n",
        "    getGuessedWord(secretWord, lettersGuessed)\n",
        "\n",
        "    while isWordGuessed(secretWord, lettersGuessed) == False and mistakesMade < 9:\n",
        "      print()#blank line for readability\n",
        "      print(\"Leters not guessed so far: \", getAvailableLetters(lettersGuessed)) #start of every round player knows what they've used\n",
        "      print(\"Letters guessed so far: \", lettersGuessed)\n",
        "      guess = input(\"Please guess a letter. \")\n",
        "      if guess in lettersGuessed:\n",
        "        print(\"It looks like you've already guessed that letter. Please guess again.\")\n",
        "        print() #blank line for readability\n",
        "        getGuessedWord(secretWord, lettersGuessed)\n",
        "      elif guess in secretWord:\n",
        "        print(\"Wow, that was a good guess!\")\n",
        "        print()\n",
        "        lettersGuessed += guess \n",
        "        getGuessedWord(secretWord, lettersGuessed)\n",
        "      elif guess not in secretWord:\n",
        "        print(\"I'm sorry. It looks like that letter is not in the secret word.\")\n",
        "        print()\n",
        "        mistakesMade += 1\n",
        "        lettersGuessed += guess\n",
        "        getGuessedWord(secretWord, lettersGuessed)\n",
        "\n",
        "     \n",
        "      if mistakesMade == 8:\n",
        "        print()\n",
        "        print(\"I'm very sorry, but you have lost. The secret word was: \", secretWord)\n",
        "        break\n",
        "\n",
        "\n",
        "\n",
        "\n",
        "# When you've completed your hangman function, uncomment these two lines\n",
        "# and run this file to test! (hint: you might want to pick your own\n",
        "# secretWord while you're testing)\n",
        "secretWord = chooseWord(wordlist).lower()\n",
        "hangman(secretWord)\n"
      ],
      "execution_count": null,
      "outputs": []
    }
  ]
}