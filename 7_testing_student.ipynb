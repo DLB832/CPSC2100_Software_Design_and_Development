{
  "nbformat": 4,
  "nbformat_minor": 0,
  "metadata": {
    "kernelspec": {
      "display_name": "Python 3",
      "language": "python",
      "name": "python3"
    },
    "language_info": {
      "codemirror_mode": {
        "name": "ipython",
        "version": 3
      },
      "file_extension": ".py",
      "mimetype": "text/x-python",
      "name": "python",
      "nbconvert_exporter": "python",
      "pygments_lexer": "ipython3",
      "version": "3.7.3"
    },
    "colab": {
      "name": "7_testing-student.ipynb",
      "provenance": [],
      "include_colab_link": true
    }
  },
  "cells": [
    {
      "cell_type": "markdown",
      "metadata": {
        "id": "view-in-github",
        "colab_type": "text"
      },
      "source": [
        "<a href=\"https://colab.research.google.com/github/DLB832/CPSC2100_coding_help/blob/main/7_testing_student.ipynb\" target=\"_parent\"><img src=\"https://colab.research.google.com/assets/colab-badge.svg\" alt=\"Open In Colab\"/></a>"
      ]
    },
    {
      "cell_type": "markdown",
      "metadata": {
        "id": "WrnkZjPIbFgq"
      },
      "source": [
        "# black box testing"
      ]
    },
    {
      "cell_type": "code",
      "metadata": {
        "id": "MvIEixNfbFgs"
      },
      "source": [
        "def sqrt(x, epsilon, debug = False): # a function from unit 3. binary search. \n",
        "    numGuesses = 0  # counter\n",
        "    low = 0  # low boundary\n",
        "    high = x   # high boundary\n",
        "    ans = (high + low)/2.0\n",
        "\n",
        "    while abs(ans**2 - x) >= epsilon:\n",
        "        if debug:\n",
        "            print('low = ' + str(low) + ' high = ' + str(high) + ' ans = ' + str(ans))\n",
        "        numGuesses += 1\n",
        "        if ans**2 < x:  #my guess is too small\n",
        "            low = ans   # move to the right by increasing low boundary\n",
        "        else:           #my guess is too big\n",
        "            high = ans  # move to the left by lowering high bounday\n",
        "        ans = (high + low)/2.0\n",
        "    return( ans )"
      ],
      "execution_count": null,
      "outputs": []
    },
    {
      "cell_type": "code",
      "metadata": {
        "id": "bDHazuc4bFgs"
      },
      "source": [
        "x = 0\n",
        "ans = sqrt(x, epsilon=0.0001)\n",
        "print(str(ans) + ' is close to square root of ' + str(x))"
      ],
      "execution_count": null,
      "outputs": []
    },
    {
      "cell_type": "code",
      "metadata": {
        "id": "yklOajWFbFgt"
      },
      "source": [
        "ans = sqrt(x, epsilon=0.0001, debug=True)\n",
        "print(str(ans) + ' is close to square root of ' + str(x))"
      ],
      "execution_count": null,
      "outputs": []
    },
    {
      "cell_type": "markdown",
      "metadata": {
        "id": "Q_TTZpTjbFgt"
      },
      "source": [
        "# Glass box testing on boundary condition error, testing  branches\n",
        "abs(-1) returns -1"
      ]
    },
    {
      "cell_type": "code",
      "metadata": {
        "id": "XOb8TtT3bFgu"
      },
      "source": [
        "def abs(x):\n",
        "    if x < -0:\n",
        "        return -x\n",
        "    else:\n",
        "        return x"
      ],
      "execution_count": null,
      "outputs": []
    },
    {
      "cell_type": "code",
      "metadata": {
        "id": "YCpsp0IlbFgu"
      },
      "source": [
        "print( abs(-0.00000001) )"
      ],
      "execution_count": null,
      "outputs": []
    },
    {
      "cell_type": "markdown",
      "metadata": {
        "id": "-OfV8O4hbFgu"
      },
      "source": [
        "# Panlindrome words, a working problem"
      ]
    },
    {
      "cell_type": "code",
      "metadata": {
        "id": "nJQdhKXHbFgv"
      },
      "source": [
        "def isPal(x):\n",
        "    assert type(x) == list\n",
        "    temp = x\n",
        "    temp.reverse\n",
        "    if temp == x:\n",
        "        return True\n",
        "    else:\n",
        "        return False\n",
        "\n",
        "def silly(n):\n",
        "    for i in range(n):\n",
        "        result = []\n",
        "        elem = input('Enter element: ')\n",
        "        result.append(elem)\n",
        "    if isPal(result):\n",
        "        print('Yes')\n",
        "    else:\n",
        "        print('No')"
      ],
      "execution_count": null,
      "outputs": []
    },
    {
      "cell_type": "code",
      "metadata": {
        "id": "s18oNhrTbFgv"
      },
      "source": [
        "isPal(['a', 'b', 'c'])"
      ],
      "execution_count": null,
      "outputs": []
    },
    {
      "cell_type": "code",
      "metadata": {
        "id": "R_bSoDbCbFgw"
      },
      "source": [
        "silly(2)"
      ],
      "execution_count": null,
      "outputs": []
    },
    {
      "cell_type": "markdown",
      "metadata": {
        "id": "HDGVSuETbFgw"
      },
      "source": [
        "# palindrome words, debuging, before correction"
      ]
    },
    {
      "cell_type": "code",
      "metadata": {
        "id": "IKrCP3RYbFgw"
      },
      "source": [
        "def isPal(x):\n",
        "    debug = 1\n",
        "    assert type(x) == list  \n",
        "    temp = x  #is temp and x pointing to the same object and not different objects. \n",
        "              #should be temp = x[:] which makes a copy of the object. or temp = x.copy()\n",
        "    if debug > 0: \n",
        "        print('isPal, before: x=',x)\n",
        "    temp.reverse()  \n",
        "    if debug > 0:\n",
        "        print('isPal, after: x =\\t',x)\n",
        "        print('isPal,after: temp\\t',temp)\n",
        "    if temp == x:\n",
        "        return True\n",
        "    else:\n",
        "        return False\n",
        "\n",
        "def silly(n):\n",
        "    debug = 1\n",
        "    result = [cat, pizza, racecar]\n",
        "    for i in range(n):\n",
        "        #elem = input('Enter element: ')\n",
        "        #result.append(elem)\n",
        "    if debug >0:\n",
        "        print('silly: result=',result)\n",
        "    if isPal(result):\n",
        "        print('Yes')\n",
        "    else:\n",
        "        print('No')"
      ],
      "execution_count": 15,
      "outputs": []
    },
    {
      "cell_type": "code",
      "metadata": {
        "colab": {
          "base_uri": "https://localhost:8080/"
        },
        "id": "zBU0gl85bFgx",
        "outputId": "b1e2136c-a473-4207-c0ba-a97218871707"
      },
      "source": [
        "silly(3)"
      ],
      "execution_count": 16,
      "outputs": [
        {
          "output_type": "stream",
          "text": [
            "Enter element: cat\n",
            "Enter element: racecar\n",
            "Enter element: pizza\n",
            "silly: result= ['cat', 'racecar', 'pizza']\n",
            "isPal, before: x= ['cat', 'racecar', 'pizza']\n",
            "isPal, after: x =\t ['pizza', 'racecar', 'cat']\n",
            "isPal,after: temp\t ['pizza', 'racecar', 'cat']\n",
            "Yes\n"
          ],
          "name": "stdout"
        }
      ]
    },
    {
      "cell_type": "code",
      "metadata": {
        "colab": {
          "base_uri": "https://localhost:8080/",
          "height": 300
        },
        "id": "CI_86yiLb0bS",
        "outputId": "a20cbf44-bfa4-41e5-ba6f-9ed44eed8d9e"
      },
      "source": [
        "x = (\"racecar\",)\n",
        "isPal(x);"
      ],
      "execution_count": 12,
      "outputs": [
        {
          "output_type": "error",
          "ename": "AssertionError",
          "evalue": "ignored",
          "traceback": [
            "\u001b[0;31m---------------------------------------------------------------------------\u001b[0m",
            "\u001b[0;31mAssertionError\u001b[0m                            Traceback (most recent call last)",
            "\u001b[0;32m<ipython-input-12-f85ab2e8bdf9>\u001b[0m in \u001b[0;36m<module>\u001b[0;34m()\u001b[0m\n\u001b[1;32m      1\u001b[0m \u001b[0mx\u001b[0m \u001b[0;34m=\u001b[0m \u001b[0;34m(\u001b[0m\u001b[0;34m\"racecar\"\u001b[0m\u001b[0;34m,\u001b[0m\u001b[0;34m)\u001b[0m\u001b[0;34m\u001b[0m\u001b[0;34m\u001b[0m\u001b[0m\n\u001b[0;32m----> 2\u001b[0;31m \u001b[0misPal\u001b[0m\u001b[0;34m(\u001b[0m\u001b[0mx\u001b[0m\u001b[0;34m)\u001b[0m\u001b[0;34m;\u001b[0m\u001b[0;34m\u001b[0m\u001b[0;34m\u001b[0m\u001b[0m\n\u001b[0m",
            "\u001b[0;32m<ipython-input-11-907112e24fe6>\u001b[0m in \u001b[0;36misPal\u001b[0;34m(x)\u001b[0m\n\u001b[1;32m      1\u001b[0m \u001b[0;32mdef\u001b[0m \u001b[0misPal\u001b[0m\u001b[0;34m(\u001b[0m\u001b[0mx\u001b[0m\u001b[0;34m)\u001b[0m\u001b[0;34m:\u001b[0m\u001b[0;34m\u001b[0m\u001b[0;34m\u001b[0m\u001b[0m\n\u001b[1;32m      2\u001b[0m     \u001b[0mdebug\u001b[0m \u001b[0;34m=\u001b[0m \u001b[0;36m1\u001b[0m\u001b[0;34m\u001b[0m\u001b[0;34m\u001b[0m\u001b[0m\n\u001b[0;32m----> 3\u001b[0;31m     \u001b[0;32massert\u001b[0m \u001b[0mtype\u001b[0m\u001b[0;34m(\u001b[0m\u001b[0mx\u001b[0m\u001b[0;34m)\u001b[0m \u001b[0;34m==\u001b[0m \u001b[0mlist\u001b[0m \u001b[0;31m#error here? x should be of a string type, not a list?\u001b[0m\u001b[0;34m\u001b[0m\u001b[0;34m\u001b[0m\u001b[0m\n\u001b[0m\u001b[1;32m      4\u001b[0m     \u001b[0mtemp\u001b[0m \u001b[0;34m=\u001b[0m \u001b[0mx\u001b[0m\u001b[0;34m\u001b[0m\u001b[0;34m\u001b[0m\u001b[0m\n\u001b[1;32m      5\u001b[0m     \u001b[0;32mif\u001b[0m \u001b[0mdebug\u001b[0m \u001b[0;34m>\u001b[0m \u001b[0;36m0\u001b[0m\u001b[0;34m:\u001b[0m\u001b[0;34m\u001b[0m\u001b[0;34m\u001b[0m\u001b[0m\n",
            "\u001b[0;31mAssertionError\u001b[0m: "
          ]
        }
      ]
    },
    {
      "cell_type": "markdown",
      "metadata": {
        "id": "LBGnbeWjbFgx"
      },
      "source": [
        "# palindrome words, correct version"
      ]
    },
    {
      "cell_type": "code",
      "metadata": {
        "id": "1ExklM9_bFgy"
      },
      "source": [
        "#???? "
      ],
      "execution_count": null,
      "outputs": []
    },
    {
      "cell_type": "code",
      "metadata": {
        "id": "xA-YhjUMbFgy"
      },
      "source": [
        ""
      ],
      "execution_count": null,
      "outputs": []
    },
    {
      "cell_type": "code",
      "metadata": {
        "id": "WQ7UYmEubFgz"
      },
      "source": [
        ""
      ],
      "execution_count": null,
      "outputs": []
    }
  ]
}